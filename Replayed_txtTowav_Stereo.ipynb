{
  "nbformat": 4,
  "nbformat_minor": 0,
  "metadata": {
    "colab": {
      "name": "Replayed txtTowav-Stereo.ipynb",
      "provenance": [],
      "collapsed_sections": [],
      "mount_file_id": "1kHsQgKD9KVdAWAb6Bxo7dXkjWtCe0arH",
      "authorship_tag": "ABX9TyNYS1byO3z8IRoHt4ITDwF3",
      "include_colab_link": true
    },
    "kernelspec": {
      "name": "python3",
      "display_name": "Python 3"
    },
    "language_info": {
      "name": "python"
    }
  },
  "cells": [
    {
      "cell_type": "markdown",
      "metadata": {
        "id": "view-in-github",
        "colab_type": "text"
      },
      "source": [
        "<a href=\"https://colab.research.google.com/github/vinuri-s/-angular/blob/master/Replayed_txtTowav_Stereo.ipynb\" target=\"_parent\"><img src=\"https://colab.research.google.com/assets/colab-badge.svg\" alt=\"Open In Colab\"/></a>"
      ]
    },
    {
      "cell_type": "code",
      "source": [
        "import pandas as pd\n",
        "import numpy as np\n",
        "\n",
        "csv = pd.read_csv (r'/content/drive/MyDrive/ELOC-SW/replayed txt/Rumbles.txt')\n",
        "data = csv.replace(-1, np.nan)\n",
        "data.to_csv (r'/content/drive/MyDrive/ELOC-SW/replayed csv/Rumbles.csv')\n",
        "print(data)"
      ],
      "metadata": {
        "colab": {
          "base_uri": "https://localhost:8080/"
        },
        "id": "Vc8IGD1m8XBC",
        "outputId": "50597c90-a3ec-4f66-b3cf-3f9293ca3eda"
      },
      "execution_count": 33,
      "outputs": [
        {
          "output_type": "stream",
          "name": "stdout",
          "text": [
            "         Mic34   Mic35\n",
            "0       2982.0  3312.0\n",
            "1       3197.0  3290.0\n",
            "2       2967.0  2947.0\n",
            "3       2822.0  2960.0\n",
            "4       2726.0  2775.0\n",
            "...        ...     ...\n",
            "747922  2879.0  3183.0\n",
            "747923  2907.0  3292.0\n",
            "747924  2833.0  3231.0\n",
            "747925  2766.0  3157.0\n",
            "747926     NaN     NaN\n",
            "\n",
            "[747927 rows x 2 columns]\n"
          ]
        }
      ]
    },
    {
      "cell_type": "code",
      "source": [
        "import numpy as np\n",
        "\n",
        "array1 = data.Mic34.to_numpy() \n",
        "# array1 = array1.astype(np.float32)\n",
        "\n",
        "array2 = data.Mic35.to_numpy() \n",
        "# array2 = array2.astype(np.float32)\n",
        "\n",
        "def using_clump(a):\n",
        "    return [a[s] for s in np.ma.clump_unmasked(np.ma.masked_invalid(a))]\n",
        "\n",
        "arrayMic34 = using_clump(array1)\n",
        "arrayMic35 = using_clump(array2)"
      ],
      "metadata": {
        "id": "UN7jNAfZOMFa"
      },
      "execution_count": 34,
      "outputs": []
    },
    {
      "cell_type": "code",
      "source": [
        "from scipy.io.wavfile import write\n",
        "\n",
        "sr=1000\n",
        "arrayStereo=[]\n",
        "\n",
        "for n in range(len(arrayMic34)):\n",
        "\n",
        "  x= np.vstack((arrayMic34[n], arrayMic35[n])).T\n",
        "  arrayStereo.append(x)\n",
        "  write(\"/content/drive/MyDrive/ELOC-SW/dataset 1 - replayed/Rumbles/%s.wav\" % n, sr, x)\n"
      ],
      "metadata": {
        "id": "XMrXa5eUAik9"
      },
      "execution_count": 35,
      "outputs": []
    },
    {
      "cell_type": "code",
      "source": [
        "import librosa\n",
        "\n",
        "filename='/content/drive/MyDrive/ELOC-SW/dataset 1 - replayed/Rumbles/26.wav'\n",
        "data,sampling_rate=librosa.load(filename,sr=None,mono=False)\n",
        "print(data.ndim)\n",
        "print(data)"
      ],
      "metadata": {
        "colab": {
          "base_uri": "https://localhost:8080/"
        },
        "id": "1XDT6A-v93P2",
        "outputId": "84800fd2-25cb-4d89-c381-912e7fcf310e"
      },
      "execution_count": 37,
      "outputs": [
        {
          "output_type": "stream",
          "name": "stdout",
          "text": [
            "2\n",
            "[[2865. 3101. 3231. ... 2907. 2833. 2766.]\n",
            " [3047. 3304. 3335. ... 3292. 3231. 3157.]]\n"
          ]
        }
      ]
    },
    {
      "cell_type": "code",
      "source": [
        "# import librosa\n",
        "\n",
        "# import numpy as np\n",
        "# from numpy.fft import fft, ifft, fft2, ifft2, fftshift\n",
        "\n",
        "# def cross_correlation_using_fft(x, y):\n",
        "#     f1 = fft(x)\n",
        "#     f2 = fft(np.flipud(y))\n",
        "#     cc = np.real(ifft(f1 * f2))\n",
        "#     return fftshift(cc)\n",
        "\n",
        "# def compute_shift(x, y):\n",
        "#  assert len(x) == len(y)\n",
        "#  c = cross_correlation_using_fft(x, y)\n",
        "#  assert len(c) == len(x)\n",
        "#  zero_index = int(len(x) / 2) - 1\n",
        "#  shift = zero_index - np.argmax(c)\n",
        "#  return shift\n",
        "\n",
        "# def shifter(a1, b1):\n",
        "#  shift = compute_shift(a1, b1)\n",
        "#  abs_shift = abs(shift)\n",
        "\n",
        "#  print (\"Shift = \",shift)\n",
        "\n",
        "#  padded = list(np.zeros(abs_shift))\n",
        "#  if shift < 0:\n",
        "#   padded.extend(b1)\n",
        "#   b1 = padded[:-abs_shift]\n",
        "\n",
        "#  elif shift > 0:\n",
        "#   print (a1)\n",
        "#   padded.extend(a1)\n",
        "#   a1 = padded[:-abs_shift]\n",
        "\n",
        "#  return a1, b1\n",
        "\n",
        "# def stereo_to_mono():\n",
        "#   a=arrayStereo[0][:,0]\n",
        "#   b=arrayStereo[0][:,1]\n",
        "#   x, y = shifter(a, b)\n",
        "#   Z = np.mean([x, y], axis=0, dtype=np.float64)\n",
        "#   return Z\n",
        "\n",
        "# input_array = stereo_to_mono()\n",
        "# print(\"Stereo -> Mono Sound Array = \",input_array)"
      ],
      "metadata": {
        "id": "ptTgeOeD-SPT"
      },
      "execution_count": null,
      "outputs": []
    }
  ]
}