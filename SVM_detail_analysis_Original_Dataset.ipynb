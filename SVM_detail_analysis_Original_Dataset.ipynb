{
  "metadata": {
    "kernelspec": {
      "display_name": "Python 3",
      "language": "python",
      "name": "python3"
    },
    "language_info": {
      "codemirror_mode": {
        "name": "ipython",
        "version": 3
      },
      "file_extension": ".py",
      "mimetype": "text/x-python",
      "name": "python",
      "nbconvert_exporter": "python",
      "pygments_lexer": "ipython3",
      "version": "3.5.2"
    },
    "colab": {
      "name": "SVM-detail-analysis - Original Dataset.ipynb",
      "provenance": [],
      "collapsed_sections": [
        "5xLfPnUTD-EB"
      ],
      "include_colab_link": true
    }
  },
  "nbformat": 4,
  "nbformat_minor": 0,
  "cells": [
    {
      "cell_type": "markdown",
      "metadata": {
        "id": "view-in-github",
        "colab_type": "text"
      },
      "source": [
        "<a href=\"https://colab.research.google.com/github/vinuri-s/-angular/blob/master/SVM_detail_analysis_Original_Dataset.ipynb\" target=\"_parent\"><img src=\"https://colab.research.google.com/assets/colab-badge.svg\" alt=\"Open In Colab\"/></a>"
      ]
    },
    {
      "cell_type": "markdown",
      "source": [
        "Running **Support Vector machine** with different **kernels(linear,gaussian,polynomial)** and also tune the various parameters such as **C** ,**gamma** and **degree** to find out the best performing model ."
      ],
      "metadata": {
        "id": "ChMhn9nPD-Co"
      }
    },
    {
      "cell_type": "markdown",
      "source": [
        "# Importing all the necessary libraries"
      ],
      "metadata": {
        "id": "pz1a2sJED-DI"
      }
    },
    {
      "cell_type": "code",
      "source": [
        "import pandas as pd\n",
        "import numpy as np\n",
        "import seaborn as sns\n",
        "\n",
        "import matplotlib.pyplot as plt\n",
        "\n",
        "%matplotlib inline"
      ],
      "execution_count": 2,
      "outputs": [],
      "metadata": {
        "id": "X3Io6MQ5D-DL"
      }
    },
    {
      "cell_type": "markdown",
      "source": [
        "# Reading the csv values into the dataframe"
      ],
      "metadata": {
        "id": "AyuzINjZD-DN"
      }
    },
    {
      "cell_type": "code",
      "source": [
        "df = pd.read_csv('/content/drive/MyDrive/ELOC-SW/features/features_original.csv')\n",
        "df.head()"
      ],
      "execution_count": 3,
      "outputs": [
        {
          "output_type": "execute_result",
          "data": {
            "text/html": [
              "\n",
              "  <div id=\"df-534e3dc4-d77a-43fa-8fb3-24818525fafb\">\n",
              "    <div class=\"colab-df-container\">\n",
              "      <div>\n",
              "<style scoped>\n",
              "    .dataframe tbody tr th:only-of-type {\n",
              "        vertical-align: middle;\n",
              "    }\n",
              "\n",
              "    .dataframe tbody tr th {\n",
              "        vertical-align: top;\n",
              "    }\n",
              "\n",
              "    .dataframe thead th {\n",
              "        text-align: right;\n",
              "    }\n",
              "</style>\n",
              "<table border=\"1\" class=\"dataframe\">\n",
              "  <thead>\n",
              "    <tr style=\"text-align: right;\">\n",
              "      <th></th>\n",
              "      <th>feature_class</th>\n",
              "      <th>zero_crossing_rate - 0 - row</th>\n",
              "      <th>chroma_stft - 0 - row</th>\n",
              "      <th>chroma_stft - 1 - row</th>\n",
              "      <th>chroma_stft - 2 - row</th>\n",
              "      <th>chroma_stft - 3 - row</th>\n",
              "      <th>chroma_stft - 4 - row</th>\n",
              "      <th>chroma_stft - 5 - row</th>\n",
              "      <th>chroma_stft - 6 - row</th>\n",
              "      <th>chroma_stft - 7 - row</th>\n",
              "      <th>chroma_stft - 8 - row</th>\n",
              "      <th>chroma_stft - 9 - row</th>\n",
              "      <th>chroma_stft - 10 - row</th>\n",
              "      <th>chroma_stft - 11 - row</th>\n",
              "      <th>chroma_cqt - 0 - row</th>\n",
              "      <th>chroma_cqt - 1 - row</th>\n",
              "      <th>chroma_cqt - 2 - row</th>\n",
              "      <th>chroma_cqt - 3 - row</th>\n",
              "      <th>chroma_cqt - 4 - row</th>\n",
              "      <th>chroma_cqt - 5 - row</th>\n",
              "      <th>chroma_cqt - 6 - row</th>\n",
              "      <th>chroma_cqt - 7 - row</th>\n",
              "      <th>chroma_cqt - 8 - row</th>\n",
              "      <th>chroma_cqt - 9 - row</th>\n",
              "      <th>chroma_cqt - 10 - row</th>\n",
              "      <th>chroma_cqt - 11 - row</th>\n",
              "      <th>chroma_cens - 0 - row</th>\n",
              "      <th>chroma_cens - 1 - row</th>\n",
              "      <th>chroma_cens - 2 - row</th>\n",
              "      <th>chroma_cens - 3 - row</th>\n",
              "      <th>chroma_cens - 4 - row</th>\n",
              "      <th>chroma_cens - 5 - row</th>\n",
              "      <th>chroma_cens - 6 - row</th>\n",
              "      <th>chroma_cens - 7 - row</th>\n",
              "      <th>chroma_cens - 8 - row</th>\n",
              "      <th>chroma_cens - 9 - row</th>\n",
              "      <th>chroma_cens - 10 - row</th>\n",
              "      <th>chroma_cens - 11 - row</th>\n",
              "      <th>melspectrogram - 0 - row</th>\n",
              "      <th>melspectrogram - 1 - row</th>\n",
              "      <th>...</th>\n",
              "      <th>melspectrogram - 7 - cd1</th>\n",
              "      <th>melspectrogram - 8 - cd1</th>\n",
              "      <th>melspectrogram - 9 - cd1</th>\n",
              "      <th>melspectrogram - 10 - cd1</th>\n",
              "      <th>melspectrogram - 11 - cd1</th>\n",
              "      <th>melspectrogram - 12 - cd1</th>\n",
              "      <th>melspectrogram - 13 - cd1</th>\n",
              "      <th>melspectrogram - 14 - cd1</th>\n",
              "      <th>melspectrogram - 15 - cd1</th>\n",
              "      <th>melspectrogram - 16 - cd1</th>\n",
              "      <th>melspectrogram - 17 - cd1</th>\n",
              "      <th>melspectrogram - 18 - cd1</th>\n",
              "      <th>melspectrogram - 19 - cd1</th>\n",
              "      <th>melspectrogram - 20 - cd1</th>\n",
              "      <th>melspectrogram - 21 - cd1</th>\n",
              "      <th>melspectrogram - 22 - cd1</th>\n",
              "      <th>melspectrogram - 23 - cd1</th>\n",
              "      <th>melspectrogram - 24 - cd1</th>\n",
              "      <th>melspectrogram - 25 - cd1</th>\n",
              "      <th>melspectrogram - 26 - cd1</th>\n",
              "      <th>melspectrogram - 27 - cd1</th>\n",
              "      <th>melspectrogram - 28 - cd1</th>\n",
              "      <th>melspectrogram - 29 - cd1</th>\n",
              "      <th>mfcc - 0 - cd1</th>\n",
              "      <th>mfcc - 1 - cd1</th>\n",
              "      <th>mfcc - 2 - cd1</th>\n",
              "      <th>mfcc - 3 - cd1</th>\n",
              "      <th>mfcc - 4 - cd1</th>\n",
              "      <th>rmse - 0 - cd1</th>\n",
              "      <th>spectral_centroid - 0 - cd1</th>\n",
              "      <th>spectral_bandwidth - 0 - cd1</th>\n",
              "      <th>spectral_contrast - 0 - cd1</th>\n",
              "      <th>spectral_contrast - 1 - cd1</th>\n",
              "      <th>spectral_contrast - 2 - cd1</th>\n",
              "      <th>spectral_contrast - 3 - cd1</th>\n",
              "      <th>spectral_contrast - 4 - cd1</th>\n",
              "      <th>spectral_contrast - 5 - cd1</th>\n",
              "      <th>spectral_rolloff - 0 - cd1</th>\n",
              "      <th>poly_features - 0 - cd1</th>\n",
              "      <th>poly_features - 1 - cd1</th>\n",
              "    </tr>\n",
              "  </thead>\n",
              "  <tbody>\n",
              "    <tr>\n",
              "      <th>0</th>\n",
              "      <td>1</td>\n",
              "      <td>0.036667</td>\n",
              "      <td>0.027315</td>\n",
              "      <td>0.064863</td>\n",
              "      <td>0.091160</td>\n",
              "      <td>0.080837</td>\n",
              "      <td>0.311170</td>\n",
              "      <td>0.561670</td>\n",
              "      <td>1.000000</td>\n",
              "      <td>0.787794</td>\n",
              "      <td>0.432896</td>\n",
              "      <td>0.063951</td>\n",
              "      <td>0.026873</td>\n",
              "      <td>0.042425</td>\n",
              "      <td>0.268634</td>\n",
              "      <td>0.190497</td>\n",
              "      <td>0.252820</td>\n",
              "      <td>0.414099</td>\n",
              "      <td>0.414560</td>\n",
              "      <td>1.000000</td>\n",
              "      <td>0.932159</td>\n",
              "      <td>0.823416</td>\n",
              "      <td>0.348228</td>\n",
              "      <td>0.366304</td>\n",
              "      <td>0.307330</td>\n",
              "      <td>0.146496</td>\n",
              "      <td>0.119442</td>\n",
              "      <td>0.0</td>\n",
              "      <td>0.0</td>\n",
              "      <td>0.237570</td>\n",
              "      <td>0.357012</td>\n",
              "      <td>0.591921</td>\n",
              "      <td>0.532703</td>\n",
              "      <td>0.299140</td>\n",
              "      <td>0.178352</td>\n",
              "      <td>0.178352</td>\n",
              "      <td>0.120788</td>\n",
              "      <td>0.000000</td>\n",
              "      <td>0.483933</td>\n",
              "      <td>4.533303</td>\n",
              "      <td>...</td>\n",
              "      <td>3.060275e-09</td>\n",
              "      <td>3.582024e-09</td>\n",
              "      <td>4.362631e-09</td>\n",
              "      <td>5.310534e-09</td>\n",
              "      <td>6.633415e-09</td>\n",
              "      <td>8.269482e-09</td>\n",
              "      <td>1.042788e-08</td>\n",
              "      <td>1.311285e-08</td>\n",
              "      <td>1.646706e-08</td>\n",
              "      <td>2.064142e-08</td>\n",
              "      <td>2.556336e-08</td>\n",
              "      <td>3.168906e-08</td>\n",
              "      <td>3.846353e-08</td>\n",
              "      <td>4.692491e-08</td>\n",
              "      <td>5.561935e-08</td>\n",
              "      <td>6.659603e-08</td>\n",
              "      <td>7.692751e-08</td>\n",
              "      <td>9.026572e-08</td>\n",
              "      <td>1.015064e-07</td>\n",
              "      <td>1.166251e-07</td>\n",
              "      <td>1.275890e-07</td>\n",
              "      <td>1.434573e-07</td>\n",
              "      <td>1.526000e-07</td>\n",
              "      <td>-428.956690</td>\n",
              "      <td>-36.953197</td>\n",
              "      <td>0.600343</td>\n",
              "      <td>-0.275013</td>\n",
              "      <td>0.690972</td>\n",
              "      <td>0.000010</td>\n",
              "      <td>167.850326</td>\n",
              "      <td>62.542169</td>\n",
              "      <td>0.004394</td>\n",
              "      <td>0.019004</td>\n",
              "      <td>0.102065</td>\n",
              "      <td>0.696889</td>\n",
              "      <td>3.786557</td>\n",
              "      <td>17.610805</td>\n",
              "      <td>227.0</td>\n",
              "      <td>4.835141e-07</td>\n",
              "      <td>0.000132</td>\n",
              "    </tr>\n",
              "    <tr>\n",
              "      <th>1</th>\n",
              "      <td>1</td>\n",
              "      <td>0.078333</td>\n",
              "      <td>0.236603</td>\n",
              "      <td>0.197802</td>\n",
              "      <td>0.096920</td>\n",
              "      <td>0.190529</td>\n",
              "      <td>0.575033</td>\n",
              "      <td>1.000000</td>\n",
              "      <td>0.996044</td>\n",
              "      <td>0.615724</td>\n",
              "      <td>0.281789</td>\n",
              "      <td>0.220250</td>\n",
              "      <td>0.114236</td>\n",
              "      <td>0.088693</td>\n",
              "      <td>0.298993</td>\n",
              "      <td>0.163514</td>\n",
              "      <td>0.227299</td>\n",
              "      <td>0.454225</td>\n",
              "      <td>0.684120</td>\n",
              "      <td>1.000000</td>\n",
              "      <td>0.530363</td>\n",
              "      <td>0.599188</td>\n",
              "      <td>0.299484</td>\n",
              "      <td>0.359870</td>\n",
              "      <td>0.273799</td>\n",
              "      <td>0.230509</td>\n",
              "      <td>0.119385</td>\n",
              "      <td>0.0</td>\n",
              "      <td>0.0</td>\n",
              "      <td>0.237440</td>\n",
              "      <td>0.356825</td>\n",
              "      <td>0.592935</td>\n",
              "      <td>0.533410</td>\n",
              "      <td>0.297300</td>\n",
              "      <td>0.177915</td>\n",
              "      <td>0.177915</td>\n",
              "      <td>0.119385</td>\n",
              "      <td>0.000000</td>\n",
              "      <td>3.950423</td>\n",
              "      <td>15.975969</td>\n",
              "      <td>...</td>\n",
              "      <td>4.377565e-07</td>\n",
              "      <td>1.141171e-07</td>\n",
              "      <td>1.315705e-07</td>\n",
              "      <td>1.695012e-06</td>\n",
              "      <td>6.481721e-06</td>\n",
              "      <td>9.248756e-06</td>\n",
              "      <td>5.293175e-06</td>\n",
              "      <td>2.473989e-06</td>\n",
              "      <td>9.988119e-06</td>\n",
              "      <td>3.245764e-05</td>\n",
              "      <td>5.140534e-05</td>\n",
              "      <td>4.063522e-05</td>\n",
              "      <td>2.047206e-05</td>\n",
              "      <td>3.794210e-05</td>\n",
              "      <td>1.107359e-04</td>\n",
              "      <td>1.758758e-04</td>\n",
              "      <td>1.403323e-04</td>\n",
              "      <td>6.839948e-05</td>\n",
              "      <td>6.730435e-05</td>\n",
              "      <td>2.201928e-04</td>\n",
              "      <td>4.178148e-04</td>\n",
              "      <td>3.983690e-04</td>\n",
              "      <td>1.826279e-04</td>\n",
              "      <td>-301.636280</td>\n",
              "      <td>-89.374808</td>\n",
              "      <td>-25.800639</td>\n",
              "      <td>-14.815135</td>\n",
              "      <td>-6.636172</td>\n",
              "      <td>0.000554</td>\n",
              "      <td>190.262152</td>\n",
              "      <td>55.176746</td>\n",
              "      <td>25.877471</td>\n",
              "      <td>9.523261</td>\n",
              "      <td>12.814395</td>\n",
              "      <td>11.163435</td>\n",
              "      <td>17.040355</td>\n",
              "      <td>13.018879</td>\n",
              "      <td>255.0</td>\n",
              "      <td>5.485607e-05</td>\n",
              "      <td>0.002058</td>\n",
              "    </tr>\n",
              "    <tr>\n",
              "      <th>2</th>\n",
              "      <td>1</td>\n",
              "      <td>0.081667</td>\n",
              "      <td>0.134216</td>\n",
              "      <td>0.038350</td>\n",
              "      <td>0.009427</td>\n",
              "      <td>0.026326</td>\n",
              "      <td>0.328581</td>\n",
              "      <td>1.000000</td>\n",
              "      <td>0.324581</td>\n",
              "      <td>0.024252</td>\n",
              "      <td>0.025759</td>\n",
              "      <td>0.014098</td>\n",
              "      <td>0.012190</td>\n",
              "      <td>0.041772</td>\n",
              "      <td>0.174762</td>\n",
              "      <td>0.034952</td>\n",
              "      <td>0.076704</td>\n",
              "      <td>0.236938</td>\n",
              "      <td>0.516881</td>\n",
              "      <td>1.000000</td>\n",
              "      <td>0.364344</td>\n",
              "      <td>0.116612</td>\n",
              "      <td>0.092935</td>\n",
              "      <td>0.115979</td>\n",
              "      <td>0.124486</td>\n",
              "      <td>0.138073</td>\n",
              "      <td>0.119319</td>\n",
              "      <td>0.0</td>\n",
              "      <td>0.0</td>\n",
              "      <td>0.237309</td>\n",
              "      <td>0.356629</td>\n",
              "      <td>0.593938</td>\n",
              "      <td>0.534111</td>\n",
              "      <td>0.295473</td>\n",
              "      <td>0.177483</td>\n",
              "      <td>0.177483</td>\n",
              "      <td>0.117990</td>\n",
              "      <td>0.000000</td>\n",
              "      <td>1.237929</td>\n",
              "      <td>25.777850</td>\n",
              "      <td>...</td>\n",
              "      <td>4.533162e-07</td>\n",
              "      <td>2.602315e-07</td>\n",
              "      <td>4.181746e-07</td>\n",
              "      <td>1.242815e-06</td>\n",
              "      <td>3.322694e-06</td>\n",
              "      <td>5.848767e-06</td>\n",
              "      <td>3.181834e-06</td>\n",
              "      <td>4.033081e-06</td>\n",
              "      <td>5.527599e-06</td>\n",
              "      <td>1.946978e-05</td>\n",
              "      <td>3.162997e-05</td>\n",
              "      <td>2.041725e-05</td>\n",
              "      <td>2.134315e-05</td>\n",
              "      <td>1.175131e-05</td>\n",
              "      <td>6.287243e-05</td>\n",
              "      <td>9.707529e-05</td>\n",
              "      <td>7.619561e-05</td>\n",
              "      <td>7.116553e-05</td>\n",
              "      <td>1.367362e-05</td>\n",
              "      <td>1.348771e-04</td>\n",
              "      <td>1.885688e-04</td>\n",
              "      <td>1.928664e-04</td>\n",
              "      <td>1.570770e-04</td>\n",
              "      <td>-306.827002</td>\n",
              "      <td>-80.100550</td>\n",
              "      <td>-23.661926</td>\n",
              "      <td>-15.464114</td>\n",
              "      <td>-6.663854</td>\n",
              "      <td>0.000531</td>\n",
              "      <td>197.489419</td>\n",
              "      <td>58.050835</td>\n",
              "      <td>18.365983</td>\n",
              "      <td>13.102885</td>\n",
              "      <td>14.043835</td>\n",
              "      <td>13.758391</td>\n",
              "      <td>11.734338</td>\n",
              "      <td>13.241551</td>\n",
              "      <td>263.0</td>\n",
              "      <td>5.126480e-05</td>\n",
              "      <td>0.000461</td>\n",
              "    </tr>\n",
              "    <tr>\n",
              "      <th>3</th>\n",
              "      <td>1</td>\n",
              "      <td>0.058333</td>\n",
              "      <td>0.024148</td>\n",
              "      <td>0.098211</td>\n",
              "      <td>0.034857</td>\n",
              "      <td>0.017637</td>\n",
              "      <td>0.025255</td>\n",
              "      <td>0.281172</td>\n",
              "      <td>1.000000</td>\n",
              "      <td>0.319798</td>\n",
              "      <td>0.049654</td>\n",
              "      <td>0.026096</td>\n",
              "      <td>0.024822</td>\n",
              "      <td>0.019728</td>\n",
              "      <td>0.103768</td>\n",
              "      <td>0.124213</td>\n",
              "      <td>0.068922</td>\n",
              "      <td>0.174051</td>\n",
              "      <td>0.285822</td>\n",
              "      <td>0.755525</td>\n",
              "      <td>1.000000</td>\n",
              "      <td>0.284871</td>\n",
              "      <td>0.188158</td>\n",
              "      <td>0.175892</td>\n",
              "      <td>0.151731</td>\n",
              "      <td>0.120276</td>\n",
              "      <td>0.119245</td>\n",
              "      <td>0.0</td>\n",
              "      <td>0.0</td>\n",
              "      <td>0.237176</td>\n",
              "      <td>0.356421</td>\n",
              "      <td>0.594940</td>\n",
              "      <td>0.534815</td>\n",
              "      <td>0.293640</td>\n",
              "      <td>0.177051</td>\n",
              "      <td>0.177051</td>\n",
              "      <td>0.116588</td>\n",
              "      <td>0.000000</td>\n",
              "      <td>1.790681</td>\n",
              "      <td>12.719421</td>\n",
              "      <td>...</td>\n",
              "      <td>1.642301e-06</td>\n",
              "      <td>1.121006e-06</td>\n",
              "      <td>5.118433e-06</td>\n",
              "      <td>6.851064e-06</td>\n",
              "      <td>1.598255e-05</td>\n",
              "      <td>2.392905e-05</td>\n",
              "      <td>9.753386e-06</td>\n",
              "      <td>7.048528e-06</td>\n",
              "      <td>5.740229e-06</td>\n",
              "      <td>1.681355e-05</td>\n",
              "      <td>3.998629e-05</td>\n",
              "      <td>1.106035e-04</td>\n",
              "      <td>2.917938e-05</td>\n",
              "      <td>1.745905e-05</td>\n",
              "      <td>5.947883e-05</td>\n",
              "      <td>9.306293e-05</td>\n",
              "      <td>1.376332e-04</td>\n",
              "      <td>2.146752e-04</td>\n",
              "      <td>1.636560e-04</td>\n",
              "      <td>1.852365e-04</td>\n",
              "      <td>1.913852e-04</td>\n",
              "      <td>6.195135e-04</td>\n",
              "      <td>2.746882e-04</td>\n",
              "      <td>-260.737021</td>\n",
              "      <td>-41.868673</td>\n",
              "      <td>4.572747</td>\n",
              "      <td>-2.291654</td>\n",
              "      <td>2.873852</td>\n",
              "      <td>0.001047</td>\n",
              "      <td>195.509959</td>\n",
              "      <td>63.369416</td>\n",
              "      <td>0.007591</td>\n",
              "      <td>0.026167</td>\n",
              "      <td>0.177044</td>\n",
              "      <td>2.028872</td>\n",
              "      <td>13.843764</td>\n",
              "      <td>15.941030</td>\n",
              "      <td>267.0</td>\n",
              "      <td>6.918299e-05</td>\n",
              "      <td>0.001100</td>\n",
              "    </tr>\n",
              "    <tr>\n",
              "      <th>4</th>\n",
              "      <td>1</td>\n",
              "      <td>0.048333</td>\n",
              "      <td>0.050021</td>\n",
              "      <td>0.111977</td>\n",
              "      <td>0.048887</td>\n",
              "      <td>0.047672</td>\n",
              "      <td>0.077726</td>\n",
              "      <td>0.306882</td>\n",
              "      <td>1.000000</td>\n",
              "      <td>0.765309</td>\n",
              "      <td>0.168315</td>\n",
              "      <td>0.043058</td>\n",
              "      <td>0.057159</td>\n",
              "      <td>0.043574</td>\n",
              "      <td>0.119925</td>\n",
              "      <td>0.185385</td>\n",
              "      <td>0.177253</td>\n",
              "      <td>0.216610</td>\n",
              "      <td>0.287835</td>\n",
              "      <td>0.853620</td>\n",
              "      <td>1.000000</td>\n",
              "      <td>0.532472</td>\n",
              "      <td>0.234843</td>\n",
              "      <td>0.131376</td>\n",
              "      <td>0.209057</td>\n",
              "      <td>0.142264</td>\n",
              "      <td>0.000000</td>\n",
              "      <td>0.0</td>\n",
              "      <td>0.0</td>\n",
              "      <td>0.113032</td>\n",
              "      <td>0.222315</td>\n",
              "      <td>0.613078</td>\n",
              "      <td>0.666946</td>\n",
              "      <td>0.278989</td>\n",
              "      <td>0.110542</td>\n",
              "      <td>0.109283</td>\n",
              "      <td>0.110542</td>\n",
              "      <td>0.053868</td>\n",
              "      <td>6.021917</td>\n",
              "      <td>25.385143</td>\n",
              "      <td>...</td>\n",
              "      <td>5.473093e-07</td>\n",
              "      <td>6.438451e-07</td>\n",
              "      <td>7.901218e-07</td>\n",
              "      <td>9.710965e-07</td>\n",
              "      <td>1.226376e-06</td>\n",
              "      <td>1.546911e-06</td>\n",
              "      <td>1.974005e-06</td>\n",
              "      <td>2.511492e-06</td>\n",
              "      <td>3.189159e-06</td>\n",
              "      <td>4.039454e-06</td>\n",
              "      <td>5.050458e-06</td>\n",
              "      <td>6.315017e-06</td>\n",
              "      <td>7.724137e-06</td>\n",
              "      <td>9.487729e-06</td>\n",
              "      <td>1.131232e-05</td>\n",
              "      <td>1.361414e-05</td>\n",
              "      <td>1.579383e-05</td>\n",
              "      <td>1.859823e-05</td>\n",
              "      <td>2.097332e-05</td>\n",
              "      <td>2.414856e-05</td>\n",
              "      <td>2.645705e-05</td>\n",
              "      <td>2.977062e-05</td>\n",
              "      <td>3.167121e-05</td>\n",
              "      <td>-303.834792</td>\n",
              "      <td>-38.281104</td>\n",
              "      <td>0.691174</td>\n",
              "      <td>-0.050926</td>\n",
              "      <td>0.808566</td>\n",
              "      <td>0.000147</td>\n",
              "      <td>172.491049</td>\n",
              "      <td>65.243205</td>\n",
              "      <td>0.002599</td>\n",
              "      <td>0.011909</td>\n",
              "      <td>0.075217</td>\n",
              "      <td>0.646654</td>\n",
              "      <td>3.946149</td>\n",
              "      <td>17.033597</td>\n",
              "      <td>257.0</td>\n",
              "      <td>8.916051e-06</td>\n",
              "      <td>0.001656</td>\n",
              "    </tr>\n",
              "  </tbody>\n",
              "</table>\n",
              "<p>5 rows × 673 columns</p>\n",
              "</div>\n",
              "      <button class=\"colab-df-convert\" onclick=\"convertToInteractive('df-534e3dc4-d77a-43fa-8fb3-24818525fafb')\"\n",
              "              title=\"Convert this dataframe to an interactive table.\"\n",
              "              style=\"display:none;\">\n",
              "        \n",
              "  <svg xmlns=\"http://www.w3.org/2000/svg\" height=\"24px\"viewBox=\"0 0 24 24\"\n",
              "       width=\"24px\">\n",
              "    <path d=\"M0 0h24v24H0V0z\" fill=\"none\"/>\n",
              "    <path d=\"M18.56 5.44l.94 2.06.94-2.06 2.06-.94-2.06-.94-.94-2.06-.94 2.06-2.06.94zm-11 1L8.5 8.5l.94-2.06 2.06-.94-2.06-.94L8.5 2.5l-.94 2.06-2.06.94zm10 10l.94 2.06.94-2.06 2.06-.94-2.06-.94-.94-2.06-.94 2.06-2.06.94z\"/><path d=\"M17.41 7.96l-1.37-1.37c-.4-.4-.92-.59-1.43-.59-.52 0-1.04.2-1.43.59L10.3 9.45l-7.72 7.72c-.78.78-.78 2.05 0 2.83L4 21.41c.39.39.9.59 1.41.59.51 0 1.02-.2 1.41-.59l7.78-7.78 2.81-2.81c.8-.78.8-2.07 0-2.86zM5.41 20L4 18.59l7.72-7.72 1.47 1.35L5.41 20z\"/>\n",
              "  </svg>\n",
              "      </button>\n",
              "      \n",
              "  <style>\n",
              "    .colab-df-container {\n",
              "      display:flex;\n",
              "      flex-wrap:wrap;\n",
              "      gap: 12px;\n",
              "    }\n",
              "\n",
              "    .colab-df-convert {\n",
              "      background-color: #E8F0FE;\n",
              "      border: none;\n",
              "      border-radius: 50%;\n",
              "      cursor: pointer;\n",
              "      display: none;\n",
              "      fill: #1967D2;\n",
              "      height: 32px;\n",
              "      padding: 0 0 0 0;\n",
              "      width: 32px;\n",
              "    }\n",
              "\n",
              "    .colab-df-convert:hover {\n",
              "      background-color: #E2EBFA;\n",
              "      box-shadow: 0px 1px 2px rgba(60, 64, 67, 0.3), 0px 1px 3px 1px rgba(60, 64, 67, 0.15);\n",
              "      fill: #174EA6;\n",
              "    }\n",
              "\n",
              "    [theme=dark] .colab-df-convert {\n",
              "      background-color: #3B4455;\n",
              "      fill: #D2E3FC;\n",
              "    }\n",
              "\n",
              "    [theme=dark] .colab-df-convert:hover {\n",
              "      background-color: #434B5C;\n",
              "      box-shadow: 0px 1px 3px 1px rgba(0, 0, 0, 0.15);\n",
              "      filter: drop-shadow(0px 1px 2px rgba(0, 0, 0, 0.3));\n",
              "      fill: #FFFFFF;\n",
              "    }\n",
              "  </style>\n",
              "\n",
              "      <script>\n",
              "        const buttonEl =\n",
              "          document.querySelector('#df-534e3dc4-d77a-43fa-8fb3-24818525fafb button.colab-df-convert');\n",
              "        buttonEl.style.display =\n",
              "          google.colab.kernel.accessAllowed ? 'block' : 'none';\n",
              "\n",
              "        async function convertToInteractive(key) {\n",
              "          const element = document.querySelector('#df-534e3dc4-d77a-43fa-8fb3-24818525fafb');\n",
              "          const dataTable =\n",
              "            await google.colab.kernel.invokeFunction('convertToInteractive',\n",
              "                                                     [key], {});\n",
              "          if (!dataTable) return;\n",
              "\n",
              "          const docLinkHtml = 'Like what you see? Visit the ' +\n",
              "            '<a target=\"_blank\" href=https://colab.research.google.com/notebooks/data_table.ipynb>data table notebook</a>'\n",
              "            + ' to learn more about interactive tables.';\n",
              "          element.innerHTML = '';\n",
              "          dataTable['output_type'] = 'display_data';\n",
              "          await google.colab.output.renderOutput(dataTable, element);\n",
              "          const docLink = document.createElement('div');\n",
              "          docLink.innerHTML = docLinkHtml;\n",
              "          element.appendChild(docLink);\n",
              "        }\n",
              "      </script>\n",
              "    </div>\n",
              "  </div>\n",
              "  "
            ],
            "text/plain": [
              "   feature_class  ...  poly_features - 1 - cd1\n",
              "0              1  ...                 0.000132\n",
              "1              1  ...                 0.002058\n",
              "2              1  ...                 0.000461\n",
              "3              1  ...                 0.001100\n",
              "4              1  ...                 0.001656\n",
              "\n",
              "[5 rows x 673 columns]"
            ]
          },
          "metadata": {},
          "execution_count": 3
        }
      ],
      "metadata": {
        "colab": {
          "base_uri": "https://localhost:8080/",
          "height": 317
        },
        "id": "yEajFZgzD-DP",
        "outputId": "ece7973a-e8f6-4768-f397-26ceed0805d4"
      }
    },
    {
      "cell_type": "markdown",
      "source": [
        "# Separating features and labels"
      ],
      "metadata": {
        "id": "8YWNvSNJD-Dv"
      }
    },
    {
      "cell_type": "code",
      "source": [
        "X = df.drop(['feature_class'], axis=1)\n",
        "y = df['feature_class']\n"
      ],
      "execution_count": 4,
      "outputs": [],
      "metadata": {
        "id": "ygaNi_JaD-DX"
      }
    },
    {
      "cell_type": "markdown",
      "source": [
        "# Checking the correlation between each feature"
      ],
      "metadata": {
        "id": "u2xDlMTdD-DT"
      }
    },
    {
      "cell_type": "code",
      "source": [
        "X.corr()"
      ],
      "metadata": {
        "colab": {
          "base_uri": "https://localhost:8080/",
          "height": 679
        },
        "id": "A5TzxHF1uTi1",
        "outputId": "f2f12af0-b2a9-4b93-a9eb-f2ed85fe6e4e"
      },
      "execution_count": 5,
      "outputs": [
        {
          "output_type": "execute_result",
          "data": {
            "text/html": [
              "\n",
              "  <div id=\"df-d73ce432-d73b-492f-86c1-39696e438861\">\n",
              "    <div class=\"colab-df-container\">\n",
              "      <div>\n",
              "<style scoped>\n",
              "    .dataframe tbody tr th:only-of-type {\n",
              "        vertical-align: middle;\n",
              "    }\n",
              "\n",
              "    .dataframe tbody tr th {\n",
              "        vertical-align: top;\n",
              "    }\n",
              "\n",
              "    .dataframe thead th {\n",
              "        text-align: right;\n",
              "    }\n",
              "</style>\n",
              "<table border=\"1\" class=\"dataframe\">\n",
              "  <thead>\n",
              "    <tr style=\"text-align: right;\">\n",
              "      <th></th>\n",
              "      <th>zero_crossing_rate - 0 - row</th>\n",
              "      <th>chroma_stft - 0 - row</th>\n",
              "      <th>chroma_stft - 1 - row</th>\n",
              "      <th>chroma_stft - 2 - row</th>\n",
              "      <th>chroma_stft - 3 - row</th>\n",
              "      <th>chroma_stft - 4 - row</th>\n",
              "      <th>chroma_stft - 5 - row</th>\n",
              "      <th>chroma_stft - 6 - row</th>\n",
              "      <th>chroma_stft - 7 - row</th>\n",
              "      <th>chroma_stft - 8 - row</th>\n",
              "      <th>chroma_stft - 9 - row</th>\n",
              "      <th>chroma_stft - 10 - row</th>\n",
              "      <th>chroma_stft - 11 - row</th>\n",
              "      <th>chroma_cqt - 0 - row</th>\n",
              "      <th>chroma_cqt - 1 - row</th>\n",
              "      <th>chroma_cqt - 2 - row</th>\n",
              "      <th>chroma_cqt - 3 - row</th>\n",
              "      <th>chroma_cqt - 4 - row</th>\n",
              "      <th>chroma_cqt - 5 - row</th>\n",
              "      <th>chroma_cqt - 6 - row</th>\n",
              "      <th>chroma_cqt - 7 - row</th>\n",
              "      <th>chroma_cqt - 8 - row</th>\n",
              "      <th>chroma_cqt - 9 - row</th>\n",
              "      <th>chroma_cqt - 10 - row</th>\n",
              "      <th>chroma_cqt - 11 - row</th>\n",
              "      <th>chroma_cens - 0 - row</th>\n",
              "      <th>chroma_cens - 1 - row</th>\n",
              "      <th>chroma_cens - 2 - row</th>\n",
              "      <th>chroma_cens - 3 - row</th>\n",
              "      <th>chroma_cens - 4 - row</th>\n",
              "      <th>chroma_cens - 5 - row</th>\n",
              "      <th>chroma_cens - 6 - row</th>\n",
              "      <th>chroma_cens - 7 - row</th>\n",
              "      <th>chroma_cens - 8 - row</th>\n",
              "      <th>chroma_cens - 9 - row</th>\n",
              "      <th>chroma_cens - 10 - row</th>\n",
              "      <th>chroma_cens - 11 - row</th>\n",
              "      <th>melspectrogram - 0 - row</th>\n",
              "      <th>melspectrogram - 1 - row</th>\n",
              "      <th>melspectrogram - 2 - row</th>\n",
              "      <th>...</th>\n",
              "      <th>melspectrogram - 7 - cd1</th>\n",
              "      <th>melspectrogram - 8 - cd1</th>\n",
              "      <th>melspectrogram - 9 - cd1</th>\n",
              "      <th>melspectrogram - 10 - cd1</th>\n",
              "      <th>melspectrogram - 11 - cd1</th>\n",
              "      <th>melspectrogram - 12 - cd1</th>\n",
              "      <th>melspectrogram - 13 - cd1</th>\n",
              "      <th>melspectrogram - 14 - cd1</th>\n",
              "      <th>melspectrogram - 15 - cd1</th>\n",
              "      <th>melspectrogram - 16 - cd1</th>\n",
              "      <th>melspectrogram - 17 - cd1</th>\n",
              "      <th>melspectrogram - 18 - cd1</th>\n",
              "      <th>melspectrogram - 19 - cd1</th>\n",
              "      <th>melspectrogram - 20 - cd1</th>\n",
              "      <th>melspectrogram - 21 - cd1</th>\n",
              "      <th>melspectrogram - 22 - cd1</th>\n",
              "      <th>melspectrogram - 23 - cd1</th>\n",
              "      <th>melspectrogram - 24 - cd1</th>\n",
              "      <th>melspectrogram - 25 - cd1</th>\n",
              "      <th>melspectrogram - 26 - cd1</th>\n",
              "      <th>melspectrogram - 27 - cd1</th>\n",
              "      <th>melspectrogram - 28 - cd1</th>\n",
              "      <th>melspectrogram - 29 - cd1</th>\n",
              "      <th>mfcc - 0 - cd1</th>\n",
              "      <th>mfcc - 1 - cd1</th>\n",
              "      <th>mfcc - 2 - cd1</th>\n",
              "      <th>mfcc - 3 - cd1</th>\n",
              "      <th>mfcc - 4 - cd1</th>\n",
              "      <th>rmse - 0 - cd1</th>\n",
              "      <th>spectral_centroid - 0 - cd1</th>\n",
              "      <th>spectral_bandwidth - 0 - cd1</th>\n",
              "      <th>spectral_contrast - 0 - cd1</th>\n",
              "      <th>spectral_contrast - 1 - cd1</th>\n",
              "      <th>spectral_contrast - 2 - cd1</th>\n",
              "      <th>spectral_contrast - 3 - cd1</th>\n",
              "      <th>spectral_contrast - 4 - cd1</th>\n",
              "      <th>spectral_contrast - 5 - cd1</th>\n",
              "      <th>spectral_rolloff - 0 - cd1</th>\n",
              "      <th>poly_features - 0 - cd1</th>\n",
              "      <th>poly_features - 1 - cd1</th>\n",
              "    </tr>\n",
              "  </thead>\n",
              "  <tbody>\n",
              "    <tr>\n",
              "      <th>zero_crossing_rate - 0 - row</th>\n",
              "      <td>1.000000</td>\n",
              "      <td>-0.030797</td>\n",
              "      <td>-0.154036</td>\n",
              "      <td>-0.202232</td>\n",
              "      <td>-0.234756</td>\n",
              "      <td>-0.174582</td>\n",
              "      <td>-0.140719</td>\n",
              "      <td>-0.229897</td>\n",
              "      <td>-0.210193</td>\n",
              "      <td>-0.120736</td>\n",
              "      <td>-0.025415</td>\n",
              "      <td>0.061284</td>\n",
              "      <td>0.039591</td>\n",
              "      <td>0.095868</td>\n",
              "      <td>0.015585</td>\n",
              "      <td>0.051409</td>\n",
              "      <td>-0.101833</td>\n",
              "      <td>-0.153724</td>\n",
              "      <td>-0.162443</td>\n",
              "      <td>-0.189390</td>\n",
              "      <td>-0.137990</td>\n",
              "      <td>-0.044603</td>\n",
              "      <td>0.056602</td>\n",
              "      <td>0.179845</td>\n",
              "      <td>0.155470</td>\n",
              "      <td>0.145872</td>\n",
              "      <td>0.066741</td>\n",
              "      <td>0.069357</td>\n",
              "      <td>-0.106463</td>\n",
              "      <td>-0.145614</td>\n",
              "      <td>-0.129053</td>\n",
              "      <td>-0.173205</td>\n",
              "      <td>-0.098996</td>\n",
              "      <td>0.000254</td>\n",
              "      <td>0.110001</td>\n",
              "      <td>0.247314</td>\n",
              "      <td>0.210849</td>\n",
              "      <td>-0.100654</td>\n",
              "      <td>-0.131330</td>\n",
              "      <td>-0.092090</td>\n",
              "      <td>...</td>\n",
              "      <td>-0.047564</td>\n",
              "      <td>-0.052823</td>\n",
              "      <td>-0.055634</td>\n",
              "      <td>-0.033457</td>\n",
              "      <td>-0.023383</td>\n",
              "      <td>-0.052237</td>\n",
              "      <td>-0.041573</td>\n",
              "      <td>-0.040961</td>\n",
              "      <td>-0.019443</td>\n",
              "      <td>-0.064169</td>\n",
              "      <td>-0.078386</td>\n",
              "      <td>-0.036797</td>\n",
              "      <td>-0.063498</td>\n",
              "      <td>-0.035946</td>\n",
              "      <td>-0.028728</td>\n",
              "      <td>-0.020236</td>\n",
              "      <td>0.004648</td>\n",
              "      <td>0.008436</td>\n",
              "      <td>-0.005799</td>\n",
              "      <td>-0.019927</td>\n",
              "      <td>-0.014560</td>\n",
              "      <td>-0.006326</td>\n",
              "      <td>-0.021850</td>\n",
              "      <td>-0.283266</td>\n",
              "      <td>0.097730</td>\n",
              "      <td>-0.067145</td>\n",
              "      <td>-0.027586</td>\n",
              "      <td>-0.046761</td>\n",
              "      <td>-0.045202</td>\n",
              "      <td>0.264803</td>\n",
              "      <td>-0.140826</td>\n",
              "      <td>0.151547</td>\n",
              "      <td>0.170824</td>\n",
              "      <td>0.115852</td>\n",
              "      <td>0.052783</td>\n",
              "      <td>-0.065335</td>\n",
              "      <td>-0.387718</td>\n",
              "      <td>0.239936</td>\n",
              "      <td>-0.027580</td>\n",
              "      <td>-0.081524</td>\n",
              "    </tr>\n",
              "    <tr>\n",
              "      <th>chroma_stft - 0 - row</th>\n",
              "      <td>-0.030797</td>\n",
              "      <td>1.000000</td>\n",
              "      <td>0.720080</td>\n",
              "      <td>0.468321</td>\n",
              "      <td>0.317066</td>\n",
              "      <td>0.198778</td>\n",
              "      <td>0.060772</td>\n",
              "      <td>0.072632</td>\n",
              "      <td>0.130913</td>\n",
              "      <td>0.142728</td>\n",
              "      <td>0.150896</td>\n",
              "      <td>0.236909</td>\n",
              "      <td>0.619071</td>\n",
              "      <td>0.732755</td>\n",
              "      <td>0.443646</td>\n",
              "      <td>0.311353</td>\n",
              "      <td>0.284831</td>\n",
              "      <td>0.186896</td>\n",
              "      <td>0.112549</td>\n",
              "      <td>0.194276</td>\n",
              "      <td>0.250846</td>\n",
              "      <td>0.267370</td>\n",
              "      <td>0.187633</td>\n",
              "      <td>0.259245</td>\n",
              "      <td>0.551951</td>\n",
              "      <td>0.536499</td>\n",
              "      <td>0.312975</td>\n",
              "      <td>0.105068</td>\n",
              "      <td>0.032272</td>\n",
              "      <td>-0.092149</td>\n",
              "      <td>-0.166600</td>\n",
              "      <td>-0.081670</td>\n",
              "      <td>0.073198</td>\n",
              "      <td>0.046867</td>\n",
              "      <td>0.038087</td>\n",
              "      <td>0.095276</td>\n",
              "      <td>0.399798</td>\n",
              "      <td>0.016675</td>\n",
              "      <td>-0.111153</td>\n",
              "      <td>-0.243612</td>\n",
              "      <td>...</td>\n",
              "      <td>-0.021321</td>\n",
              "      <td>-0.014809</td>\n",
              "      <td>-0.010991</td>\n",
              "      <td>0.005509</td>\n",
              "      <td>0.037024</td>\n",
              "      <td>0.037442</td>\n",
              "      <td>0.046127</td>\n",
              "      <td>0.078409</td>\n",
              "      <td>0.073067</td>\n",
              "      <td>0.049301</td>\n",
              "      <td>0.051189</td>\n",
              "      <td>0.070188</td>\n",
              "      <td>0.076953</td>\n",
              "      <td>0.086725</td>\n",
              "      <td>0.081245</td>\n",
              "      <td>0.092016</td>\n",
              "      <td>0.079132</td>\n",
              "      <td>0.084132</td>\n",
              "      <td>0.100981</td>\n",
              "      <td>0.131665</td>\n",
              "      <td>0.133327</td>\n",
              "      <td>0.084565</td>\n",
              "      <td>0.067867</td>\n",
              "      <td>0.134667</td>\n",
              "      <td>-0.267717</td>\n",
              "      <td>-0.122293</td>\n",
              "      <td>-0.166093</td>\n",
              "      <td>-0.010408</td>\n",
              "      <td>0.176707</td>\n",
              "      <td>0.015869</td>\n",
              "      <td>-0.247086</td>\n",
              "      <td>0.159474</td>\n",
              "      <td>0.197144</td>\n",
              "      <td>0.193045</td>\n",
              "      <td>0.199015</td>\n",
              "      <td>0.244324</td>\n",
              "      <td>0.200945</td>\n",
              "      <td>-0.069103</td>\n",
              "      <td>0.162196</td>\n",
              "      <td>0.134663</td>\n",
              "    </tr>\n",
              "    <tr>\n",
              "      <th>chroma_stft - 1 - row</th>\n",
              "      <td>-0.154036</td>\n",
              "      <td>0.720080</td>\n",
              "      <td>1.000000</td>\n",
              "      <td>0.757868</td>\n",
              "      <td>0.461396</td>\n",
              "      <td>0.180670</td>\n",
              "      <td>0.044494</td>\n",
              "      <td>0.119021</td>\n",
              "      <td>0.163009</td>\n",
              "      <td>0.156962</td>\n",
              "      <td>0.177336</td>\n",
              "      <td>0.194440</td>\n",
              "      <td>0.334529</td>\n",
              "      <td>0.594735</td>\n",
              "      <td>0.713568</td>\n",
              "      <td>0.467506</td>\n",
              "      <td>0.333506</td>\n",
              "      <td>0.145612</td>\n",
              "      <td>0.117419</td>\n",
              "      <td>0.240484</td>\n",
              "      <td>0.292769</td>\n",
              "      <td>0.272803</td>\n",
              "      <td>0.202168</td>\n",
              "      <td>0.212407</td>\n",
              "      <td>0.334061</td>\n",
              "      <td>0.448720</td>\n",
              "      <td>0.519167</td>\n",
              "      <td>0.315891</td>\n",
              "      <td>0.089158</td>\n",
              "      <td>-0.133087</td>\n",
              "      <td>-0.189752</td>\n",
              "      <td>-0.049241</td>\n",
              "      <td>0.110740</td>\n",
              "      <td>0.055143</td>\n",
              "      <td>0.027457</td>\n",
              "      <td>0.017795</td>\n",
              "      <td>0.206197</td>\n",
              "      <td>0.010938</td>\n",
              "      <td>-0.094453</td>\n",
              "      <td>-0.221961</td>\n",
              "      <td>...</td>\n",
              "      <td>-0.028313</td>\n",
              "      <td>-0.025489</td>\n",
              "      <td>-0.019102</td>\n",
              "      <td>-0.019120</td>\n",
              "      <td>-0.001083</td>\n",
              "      <td>0.036357</td>\n",
              "      <td>0.040775</td>\n",
              "      <td>0.072499</td>\n",
              "      <td>0.074801</td>\n",
              "      <td>0.058397</td>\n",
              "      <td>0.058547</td>\n",
              "      <td>0.041093</td>\n",
              "      <td>0.077353</td>\n",
              "      <td>0.096593</td>\n",
              "      <td>0.092691</td>\n",
              "      <td>0.097709</td>\n",
              "      <td>0.085076</td>\n",
              "      <td>0.089136</td>\n",
              "      <td>0.081813</td>\n",
              "      <td>0.103848</td>\n",
              "      <td>0.111193</td>\n",
              "      <td>0.107335</td>\n",
              "      <td>0.088427</td>\n",
              "      <td>0.127564</td>\n",
              "      <td>-0.288958</td>\n",
              "      <td>-0.133994</td>\n",
              "      <td>-0.151455</td>\n",
              "      <td>0.043513</td>\n",
              "      <td>0.152650</td>\n",
              "      <td>-0.043208</td>\n",
              "      <td>-0.255736</td>\n",
              "      <td>0.164777</td>\n",
              "      <td>0.208275</td>\n",
              "      <td>0.200920</td>\n",
              "      <td>0.234898</td>\n",
              "      <td>0.259436</td>\n",
              "      <td>0.258252</td>\n",
              "      <td>-0.128886</td>\n",
              "      <td>0.111340</td>\n",
              "      <td>0.135078</td>\n",
              "    </tr>\n",
              "    <tr>\n",
              "      <th>chroma_stft - 2 - row</th>\n",
              "      <td>-0.202232</td>\n",
              "      <td>0.468321</td>\n",
              "      <td>0.757868</td>\n",
              "      <td>1.000000</td>\n",
              "      <td>0.723284</td>\n",
              "      <td>0.317274</td>\n",
              "      <td>0.129720</td>\n",
              "      <td>0.156619</td>\n",
              "      <td>0.223086</td>\n",
              "      <td>0.215002</td>\n",
              "      <td>0.232110</td>\n",
              "      <td>0.224204</td>\n",
              "      <td>0.313552</td>\n",
              "      <td>0.360185</td>\n",
              "      <td>0.569860</td>\n",
              "      <td>0.671048</td>\n",
              "      <td>0.419101</td>\n",
              "      <td>0.219315</td>\n",
              "      <td>0.160042</td>\n",
              "      <td>0.222310</td>\n",
              "      <td>0.318240</td>\n",
              "      <td>0.284180</td>\n",
              "      <td>0.220412</td>\n",
              "      <td>0.219394</td>\n",
              "      <td>0.263993</td>\n",
              "      <td>0.253816</td>\n",
              "      <td>0.446295</td>\n",
              "      <td>0.476184</td>\n",
              "      <td>0.185149</td>\n",
              "      <td>-0.045040</td>\n",
              "      <td>-0.157245</td>\n",
              "      <td>-0.080692</td>\n",
              "      <td>0.099499</td>\n",
              "      <td>0.046235</td>\n",
              "      <td>0.016530</td>\n",
              "      <td>-0.000102</td>\n",
              "      <td>0.104132</td>\n",
              "      <td>0.048158</td>\n",
              "      <td>-0.037935</td>\n",
              "      <td>-0.215577</td>\n",
              "      <td>...</td>\n",
              "      <td>0.001861</td>\n",
              "      <td>0.008052</td>\n",
              "      <td>0.015209</td>\n",
              "      <td>0.005702</td>\n",
              "      <td>0.003505</td>\n",
              "      <td>0.040136</td>\n",
              "      <td>0.060100</td>\n",
              "      <td>0.076930</td>\n",
              "      <td>0.060247</td>\n",
              "      <td>0.085554</td>\n",
              "      <td>0.094730</td>\n",
              "      <td>0.054040</td>\n",
              "      <td>0.098225</td>\n",
              "      <td>0.097905</td>\n",
              "      <td>0.082793</td>\n",
              "      <td>0.086134</td>\n",
              "      <td>0.070881</td>\n",
              "      <td>0.068216</td>\n",
              "      <td>0.064952</td>\n",
              "      <td>0.082704</td>\n",
              "      <td>0.077578</td>\n",
              "      <td>0.082404</td>\n",
              "      <td>0.078081</td>\n",
              "      <td>0.083510</td>\n",
              "      <td>-0.267249</td>\n",
              "      <td>-0.174610</td>\n",
              "      <td>-0.107772</td>\n",
              "      <td>0.045499</td>\n",
              "      <td>0.130862</td>\n",
              "      <td>-0.080168</td>\n",
              "      <td>-0.208976</td>\n",
              "      <td>0.160239</td>\n",
              "      <td>0.216151</td>\n",
              "      <td>0.222148</td>\n",
              "      <td>0.252617</td>\n",
              "      <td>0.257187</td>\n",
              "      <td>0.244487</td>\n",
              "      <td>-0.151177</td>\n",
              "      <td>0.065279</td>\n",
              "      <td>0.108703</td>\n",
              "    </tr>\n",
              "    <tr>\n",
              "      <th>chroma_stft - 3 - row</th>\n",
              "      <td>-0.234756</td>\n",
              "      <td>0.317066</td>\n",
              "      <td>0.461396</td>\n",
              "      <td>0.723284</td>\n",
              "      <td>1.000000</td>\n",
              "      <td>0.668577</td>\n",
              "      <td>0.207659</td>\n",
              "      <td>0.113568</td>\n",
              "      <td>0.151510</td>\n",
              "      <td>0.159050</td>\n",
              "      <td>0.172451</td>\n",
              "      <td>0.154065</td>\n",
              "      <td>0.213402</td>\n",
              "      <td>0.253796</td>\n",
              "      <td>0.314249</td>\n",
              "      <td>0.490565</td>\n",
              "      <td>0.655972</td>\n",
              "      <td>0.411048</td>\n",
              "      <td>0.159480</td>\n",
              "      <td>0.145059</td>\n",
              "      <td>0.219608</td>\n",
              "      <td>0.197480</td>\n",
              "      <td>0.159150</td>\n",
              "      <td>0.147307</td>\n",
              "      <td>0.174971</td>\n",
              "      <td>0.135580</td>\n",
              "      <td>0.236299</td>\n",
              "      <td>0.393957</td>\n",
              "      <td>0.414496</td>\n",
              "      <td>0.181768</td>\n",
              "      <td>-0.108316</td>\n",
              "      <td>-0.102920</td>\n",
              "      <td>0.014697</td>\n",
              "      <td>-0.027408</td>\n",
              "      <td>-0.053843</td>\n",
              "      <td>-0.043611</td>\n",
              "      <td>0.038768</td>\n",
              "      <td>0.084074</td>\n",
              "      <td>0.044495</td>\n",
              "      <td>-0.202834</td>\n",
              "      <td>...</td>\n",
              "      <td>-0.024287</td>\n",
              "      <td>-0.016375</td>\n",
              "      <td>-0.009084</td>\n",
              "      <td>-0.014709</td>\n",
              "      <td>-0.015106</td>\n",
              "      <td>0.016768</td>\n",
              "      <td>0.038422</td>\n",
              "      <td>0.064905</td>\n",
              "      <td>0.052627</td>\n",
              "      <td>0.072191</td>\n",
              "      <td>0.072187</td>\n",
              "      <td>0.029969</td>\n",
              "      <td>0.081852</td>\n",
              "      <td>0.086047</td>\n",
              "      <td>0.065947</td>\n",
              "      <td>0.063554</td>\n",
              "      <td>0.049275</td>\n",
              "      <td>0.045001</td>\n",
              "      <td>0.025919</td>\n",
              "      <td>0.034088</td>\n",
              "      <td>0.039894</td>\n",
              "      <td>0.058995</td>\n",
              "      <td>0.046389</td>\n",
              "      <td>0.039272</td>\n",
              "      <td>-0.162748</td>\n",
              "      <td>-0.146203</td>\n",
              "      <td>-0.039101</td>\n",
              "      <td>-0.003555</td>\n",
              "      <td>0.077728</td>\n",
              "      <td>-0.087731</td>\n",
              "      <td>-0.105227</td>\n",
              "      <td>0.114310</td>\n",
              "      <td>0.145090</td>\n",
              "      <td>0.167831</td>\n",
              "      <td>0.188427</td>\n",
              "      <td>0.181801</td>\n",
              "      <td>0.144209</td>\n",
              "      <td>-0.125798</td>\n",
              "      <td>0.051214</td>\n",
              "      <td>0.062523</td>\n",
              "    </tr>\n",
              "    <tr>\n",
              "      <th>...</th>\n",
              "      <td>...</td>\n",
              "      <td>...</td>\n",
              "      <td>...</td>\n",
              "      <td>...</td>\n",
              "      <td>...</td>\n",
              "      <td>...</td>\n",
              "      <td>...</td>\n",
              "      <td>...</td>\n",
              "      <td>...</td>\n",
              "      <td>...</td>\n",
              "      <td>...</td>\n",
              "      <td>...</td>\n",
              "      <td>...</td>\n",
              "      <td>...</td>\n",
              "      <td>...</td>\n",
              "      <td>...</td>\n",
              "      <td>...</td>\n",
              "      <td>...</td>\n",
              "      <td>...</td>\n",
              "      <td>...</td>\n",
              "      <td>...</td>\n",
              "      <td>...</td>\n",
              "      <td>...</td>\n",
              "      <td>...</td>\n",
              "      <td>...</td>\n",
              "      <td>...</td>\n",
              "      <td>...</td>\n",
              "      <td>...</td>\n",
              "      <td>...</td>\n",
              "      <td>...</td>\n",
              "      <td>...</td>\n",
              "      <td>...</td>\n",
              "      <td>...</td>\n",
              "      <td>...</td>\n",
              "      <td>...</td>\n",
              "      <td>...</td>\n",
              "      <td>...</td>\n",
              "      <td>...</td>\n",
              "      <td>...</td>\n",
              "      <td>...</td>\n",
              "      <td>...</td>\n",
              "      <td>...</td>\n",
              "      <td>...</td>\n",
              "      <td>...</td>\n",
              "      <td>...</td>\n",
              "      <td>...</td>\n",
              "      <td>...</td>\n",
              "      <td>...</td>\n",
              "      <td>...</td>\n",
              "      <td>...</td>\n",
              "      <td>...</td>\n",
              "      <td>...</td>\n",
              "      <td>...</td>\n",
              "      <td>...</td>\n",
              "      <td>...</td>\n",
              "      <td>...</td>\n",
              "      <td>...</td>\n",
              "      <td>...</td>\n",
              "      <td>...</td>\n",
              "      <td>...</td>\n",
              "      <td>...</td>\n",
              "      <td>...</td>\n",
              "      <td>...</td>\n",
              "      <td>...</td>\n",
              "      <td>...</td>\n",
              "      <td>...</td>\n",
              "      <td>...</td>\n",
              "      <td>...</td>\n",
              "      <td>...</td>\n",
              "      <td>...</td>\n",
              "      <td>...</td>\n",
              "      <td>...</td>\n",
              "      <td>...</td>\n",
              "      <td>...</td>\n",
              "      <td>...</td>\n",
              "      <td>...</td>\n",
              "      <td>...</td>\n",
              "      <td>...</td>\n",
              "      <td>...</td>\n",
              "      <td>...</td>\n",
              "      <td>...</td>\n",
              "    </tr>\n",
              "    <tr>\n",
              "      <th>spectral_contrast - 4 - cd1</th>\n",
              "      <td>-0.065335</td>\n",
              "      <td>0.244324</td>\n",
              "      <td>0.259436</td>\n",
              "      <td>0.257187</td>\n",
              "      <td>0.181801</td>\n",
              "      <td>0.054604</td>\n",
              "      <td>-0.011531</td>\n",
              "      <td>0.005118</td>\n",
              "      <td>0.045305</td>\n",
              "      <td>0.023340</td>\n",
              "      <td>0.008463</td>\n",
              "      <td>0.089149</td>\n",
              "      <td>0.201251</td>\n",
              "      <td>0.205235</td>\n",
              "      <td>0.204332</td>\n",
              "      <td>0.263031</td>\n",
              "      <td>0.175586</td>\n",
              "      <td>0.059499</td>\n",
              "      <td>0.013450</td>\n",
              "      <td>0.086392</td>\n",
              "      <td>0.117128</td>\n",
              "      <td>0.127199</td>\n",
              "      <td>0.081348</td>\n",
              "      <td>0.108813</td>\n",
              "      <td>0.189309</td>\n",
              "      <td>0.103678</td>\n",
              "      <td>0.162753</td>\n",
              "      <td>0.204422</td>\n",
              "      <td>0.074380</td>\n",
              "      <td>-0.032619</td>\n",
              "      <td>-0.090050</td>\n",
              "      <td>-0.039584</td>\n",
              "      <td>0.032573</td>\n",
              "      <td>0.032032</td>\n",
              "      <td>0.002674</td>\n",
              "      <td>0.017792</td>\n",
              "      <td>0.061996</td>\n",
              "      <td>0.014260</td>\n",
              "      <td>-0.008421</td>\n",
              "      <td>-0.015470</td>\n",
              "      <td>...</td>\n",
              "      <td>-0.000625</td>\n",
              "      <td>0.003375</td>\n",
              "      <td>0.008668</td>\n",
              "      <td>0.021020</td>\n",
              "      <td>0.059949</td>\n",
              "      <td>0.078772</td>\n",
              "      <td>0.082758</td>\n",
              "      <td>0.137212</td>\n",
              "      <td>0.134492</td>\n",
              "      <td>0.099396</td>\n",
              "      <td>0.080675</td>\n",
              "      <td>0.083713</td>\n",
              "      <td>0.099830</td>\n",
              "      <td>0.112453</td>\n",
              "      <td>0.126827</td>\n",
              "      <td>0.150649</td>\n",
              "      <td>0.165966</td>\n",
              "      <td>0.156283</td>\n",
              "      <td>0.158891</td>\n",
              "      <td>0.168445</td>\n",
              "      <td>0.169745</td>\n",
              "      <td>0.128629</td>\n",
              "      <td>0.107488</td>\n",
              "      <td>0.402276</td>\n",
              "      <td>-0.788682</td>\n",
              "      <td>-0.512125</td>\n",
              "      <td>-0.412404</td>\n",
              "      <td>-0.006414</td>\n",
              "      <td>0.354880</td>\n",
              "      <td>0.176677</td>\n",
              "      <td>-0.536349</td>\n",
              "      <td>0.509975</td>\n",
              "      <td>0.582220</td>\n",
              "      <td>0.647702</td>\n",
              "      <td>0.788713</td>\n",
              "      <td>1.000000</td>\n",
              "      <td>0.641208</td>\n",
              "      <td>0.033265</td>\n",
              "      <td>0.365046</td>\n",
              "      <td>0.169907</td>\n",
              "    </tr>\n",
              "    <tr>\n",
              "      <th>spectral_contrast - 5 - cd1</th>\n",
              "      <td>-0.387718</td>\n",
              "      <td>0.200945</td>\n",
              "      <td>0.258252</td>\n",
              "      <td>0.244487</td>\n",
              "      <td>0.144209</td>\n",
              "      <td>0.023278</td>\n",
              "      <td>-0.012001</td>\n",
              "      <td>0.042732</td>\n",
              "      <td>0.074975</td>\n",
              "      <td>0.023501</td>\n",
              "      <td>-0.018459</td>\n",
              "      <td>0.082682</td>\n",
              "      <td>0.176396</td>\n",
              "      <td>0.128959</td>\n",
              "      <td>0.169681</td>\n",
              "      <td>0.200260</td>\n",
              "      <td>0.124361</td>\n",
              "      <td>0.032514</td>\n",
              "      <td>0.015992</td>\n",
              "      <td>0.104068</td>\n",
              "      <td>0.120546</td>\n",
              "      <td>0.077000</td>\n",
              "      <td>0.036283</td>\n",
              "      <td>0.078168</td>\n",
              "      <td>0.141317</td>\n",
              "      <td>0.066979</td>\n",
              "      <td>0.118023</td>\n",
              "      <td>0.158378</td>\n",
              "      <td>0.068261</td>\n",
              "      <td>-0.020498</td>\n",
              "      <td>-0.069225</td>\n",
              "      <td>-0.000327</td>\n",
              "      <td>0.052288</td>\n",
              "      <td>0.014122</td>\n",
              "      <td>0.001869</td>\n",
              "      <td>0.004063</td>\n",
              "      <td>0.041749</td>\n",
              "      <td>0.004888</td>\n",
              "      <td>0.011176</td>\n",
              "      <td>0.010646</td>\n",
              "      <td>...</td>\n",
              "      <td>0.101355</td>\n",
              "      <td>0.114530</td>\n",
              "      <td>0.121251</td>\n",
              "      <td>0.110108</td>\n",
              "      <td>0.122756</td>\n",
              "      <td>0.144609</td>\n",
              "      <td>0.156537</td>\n",
              "      <td>0.173859</td>\n",
              "      <td>0.146822</td>\n",
              "      <td>0.175759</td>\n",
              "      <td>0.177599</td>\n",
              "      <td>0.145745</td>\n",
              "      <td>0.173815</td>\n",
              "      <td>0.154524</td>\n",
              "      <td>0.156109</td>\n",
              "      <td>0.178334</td>\n",
              "      <td>0.192693</td>\n",
              "      <td>0.167117</td>\n",
              "      <td>0.197422</td>\n",
              "      <td>0.209175</td>\n",
              "      <td>0.186745</td>\n",
              "      <td>0.148110</td>\n",
              "      <td>0.154732</td>\n",
              "      <td>0.591288</td>\n",
              "      <td>-0.601063</td>\n",
              "      <td>-0.225631</td>\n",
              "      <td>-0.274495</td>\n",
              "      <td>-0.014648</td>\n",
              "      <td>0.340003</td>\n",
              "      <td>-0.191955</td>\n",
              "      <td>-0.237382</td>\n",
              "      <td>0.169403</td>\n",
              "      <td>0.222091</td>\n",
              "      <td>0.263796</td>\n",
              "      <td>0.413028</td>\n",
              "      <td>0.641208</td>\n",
              "      <td>1.000000</td>\n",
              "      <td>-0.281297</td>\n",
              "      <td>0.277140</td>\n",
              "      <td>0.286155</td>\n",
              "    </tr>\n",
              "    <tr>\n",
              "      <th>spectral_rolloff - 0 - cd1</th>\n",
              "      <td>0.239936</td>\n",
              "      <td>-0.069103</td>\n",
              "      <td>-0.128886</td>\n",
              "      <td>-0.151177</td>\n",
              "      <td>-0.125798</td>\n",
              "      <td>-0.030703</td>\n",
              "      <td>0.018334</td>\n",
              "      <td>-0.042010</td>\n",
              "      <td>-0.043477</td>\n",
              "      <td>-0.019725</td>\n",
              "      <td>-0.011916</td>\n",
              "      <td>-0.034442</td>\n",
              "      <td>-0.059117</td>\n",
              "      <td>-0.039886</td>\n",
              "      <td>-0.066259</td>\n",
              "      <td>-0.097295</td>\n",
              "      <td>-0.089360</td>\n",
              "      <td>-0.068126</td>\n",
              "      <td>-0.029235</td>\n",
              "      <td>-0.080444</td>\n",
              "      <td>-0.092598</td>\n",
              "      <td>-0.079023</td>\n",
              "      <td>-0.060765</td>\n",
              "      <td>-0.087315</td>\n",
              "      <td>-0.055787</td>\n",
              "      <td>-0.012638</td>\n",
              "      <td>-0.031553</td>\n",
              "      <td>-0.035354</td>\n",
              "      <td>-0.016697</td>\n",
              "      <td>-0.023543</td>\n",
              "      <td>0.008332</td>\n",
              "      <td>0.002670</td>\n",
              "      <td>-0.016072</td>\n",
              "      <td>-0.024164</td>\n",
              "      <td>-0.028560</td>\n",
              "      <td>-0.023750</td>\n",
              "      <td>-0.032158</td>\n",
              "      <td>-0.023756</td>\n",
              "      <td>-0.014410</td>\n",
              "      <td>0.066755</td>\n",
              "      <td>...</td>\n",
              "      <td>-0.065314</td>\n",
              "      <td>-0.073675</td>\n",
              "      <td>-0.081570</td>\n",
              "      <td>-0.064824</td>\n",
              "      <td>-0.060623</td>\n",
              "      <td>-0.089557</td>\n",
              "      <td>-0.095432</td>\n",
              "      <td>-0.091819</td>\n",
              "      <td>-0.074420</td>\n",
              "      <td>-0.104640</td>\n",
              "      <td>-0.107777</td>\n",
              "      <td>-0.076776</td>\n",
              "      <td>-0.105718</td>\n",
              "      <td>-0.100366</td>\n",
              "      <td>-0.087519</td>\n",
              "      <td>-0.104815</td>\n",
              "      <td>-0.114215</td>\n",
              "      <td>-0.105809</td>\n",
              "      <td>-0.122022</td>\n",
              "      <td>-0.130545</td>\n",
              "      <td>-0.111276</td>\n",
              "      <td>-0.094689</td>\n",
              "      <td>-0.105285</td>\n",
              "      <td>-0.443547</td>\n",
              "      <td>0.070824</td>\n",
              "      <td>0.089328</td>\n",
              "      <td>0.016380</td>\n",
              "      <td>0.109024</td>\n",
              "      <td>-0.163641</td>\n",
              "      <td>0.941969</td>\n",
              "      <td>-0.073487</td>\n",
              "      <td>0.114777</td>\n",
              "      <td>0.111996</td>\n",
              "      <td>0.107222</td>\n",
              "      <td>0.062262</td>\n",
              "      <td>0.033265</td>\n",
              "      <td>-0.281297</td>\n",
              "      <td>1.000000</td>\n",
              "      <td>-0.027678</td>\n",
              "      <td>-0.222465</td>\n",
              "    </tr>\n",
              "    <tr>\n",
              "      <th>poly_features - 0 - cd1</th>\n",
              "      <td>-0.027580</td>\n",
              "      <td>0.162196</td>\n",
              "      <td>0.111340</td>\n",
              "      <td>0.065279</td>\n",
              "      <td>0.051214</td>\n",
              "      <td>-0.011680</td>\n",
              "      <td>-0.036361</td>\n",
              "      <td>-0.054194</td>\n",
              "      <td>-0.017707</td>\n",
              "      <td>-0.011363</td>\n",
              "      <td>0.024306</td>\n",
              "      <td>0.075471</td>\n",
              "      <td>0.118262</td>\n",
              "      <td>0.119871</td>\n",
              "      <td>0.080299</td>\n",
              "      <td>0.084835</td>\n",
              "      <td>0.048755</td>\n",
              "      <td>-0.019810</td>\n",
              "      <td>-0.024963</td>\n",
              "      <td>-0.010087</td>\n",
              "      <td>0.027058</td>\n",
              "      <td>0.046680</td>\n",
              "      <td>0.078063</td>\n",
              "      <td>0.080339</td>\n",
              "      <td>0.134870</td>\n",
              "      <td>0.022978</td>\n",
              "      <td>0.054066</td>\n",
              "      <td>-0.003993</td>\n",
              "      <td>-0.023990</td>\n",
              "      <td>-0.023617</td>\n",
              "      <td>-0.059197</td>\n",
              "      <td>-0.014421</td>\n",
              "      <td>0.003072</td>\n",
              "      <td>0.031238</td>\n",
              "      <td>0.041361</td>\n",
              "      <td>0.055258</td>\n",
              "      <td>0.049462</td>\n",
              "      <td>0.169741</td>\n",
              "      <td>0.135108</td>\n",
              "      <td>0.160618</td>\n",
              "      <td>...</td>\n",
              "      <td>0.234496</td>\n",
              "      <td>0.263153</td>\n",
              "      <td>0.271022</td>\n",
              "      <td>0.332552</td>\n",
              "      <td>0.472664</td>\n",
              "      <td>0.434824</td>\n",
              "      <td>0.514755</td>\n",
              "      <td>0.653563</td>\n",
              "      <td>0.620112</td>\n",
              "      <td>0.549148</td>\n",
              "      <td>0.470601</td>\n",
              "      <td>0.550105</td>\n",
              "      <td>0.543419</td>\n",
              "      <td>0.548267</td>\n",
              "      <td>0.580022</td>\n",
              "      <td>0.570647</td>\n",
              "      <td>0.508032</td>\n",
              "      <td>0.519669</td>\n",
              "      <td>0.538574</td>\n",
              "      <td>0.556438</td>\n",
              "      <td>0.601333</td>\n",
              "      <td>0.480989</td>\n",
              "      <td>0.436445</td>\n",
              "      <td>0.482966</td>\n",
              "      <td>-0.432122</td>\n",
              "      <td>-0.342200</td>\n",
              "      <td>-0.398612</td>\n",
              "      <td>-0.254699</td>\n",
              "      <td>0.744146</td>\n",
              "      <td>0.047642</td>\n",
              "      <td>-0.283669</td>\n",
              "      <td>0.194690</td>\n",
              "      <td>0.162518</td>\n",
              "      <td>0.156676</td>\n",
              "      <td>0.261829</td>\n",
              "      <td>0.365046</td>\n",
              "      <td>0.277140</td>\n",
              "      <td>-0.027678</td>\n",
              "      <td>1.000000</td>\n",
              "      <td>0.532038</td>\n",
              "    </tr>\n",
              "    <tr>\n",
              "      <th>poly_features - 1 - cd1</th>\n",
              "      <td>-0.081524</td>\n",
              "      <td>0.134663</td>\n",
              "      <td>0.135078</td>\n",
              "      <td>0.108703</td>\n",
              "      <td>0.062523</td>\n",
              "      <td>0.001060</td>\n",
              "      <td>-0.046184</td>\n",
              "      <td>-0.013242</td>\n",
              "      <td>0.008005</td>\n",
              "      <td>0.009033</td>\n",
              "      <td>0.033783</td>\n",
              "      <td>0.059825</td>\n",
              "      <td>0.107313</td>\n",
              "      <td>0.055707</td>\n",
              "      <td>0.055351</td>\n",
              "      <td>0.118359</td>\n",
              "      <td>0.061170</td>\n",
              "      <td>0.003265</td>\n",
              "      <td>-0.003047</td>\n",
              "      <td>0.067396</td>\n",
              "      <td>0.041413</td>\n",
              "      <td>0.063181</td>\n",
              "      <td>0.069266</td>\n",
              "      <td>0.040151</td>\n",
              "      <td>0.083560</td>\n",
              "      <td>-0.012704</td>\n",
              "      <td>0.034215</td>\n",
              "      <td>0.009607</td>\n",
              "      <td>0.011007</td>\n",
              "      <td>0.017218</td>\n",
              "      <td>-0.017602</td>\n",
              "      <td>0.035728</td>\n",
              "      <td>0.025900</td>\n",
              "      <td>0.044934</td>\n",
              "      <td>0.031988</td>\n",
              "      <td>-0.005395</td>\n",
              "      <td>0.023577</td>\n",
              "      <td>0.214214</td>\n",
              "      <td>0.340367</td>\n",
              "      <td>0.161834</td>\n",
              "      <td>...</td>\n",
              "      <td>0.590415</td>\n",
              "      <td>0.633733</td>\n",
              "      <td>0.671223</td>\n",
              "      <td>0.591808</td>\n",
              "      <td>0.629804</td>\n",
              "      <td>0.781439</td>\n",
              "      <td>0.834009</td>\n",
              "      <td>0.835573</td>\n",
              "      <td>0.761296</td>\n",
              "      <td>0.875735</td>\n",
              "      <td>0.821824</td>\n",
              "      <td>0.711513</td>\n",
              "      <td>0.832989</td>\n",
              "      <td>0.834501</td>\n",
              "      <td>0.789463</td>\n",
              "      <td>0.826228</td>\n",
              "      <td>0.806822</td>\n",
              "      <td>0.827229</td>\n",
              "      <td>0.879288</td>\n",
              "      <td>0.896548</td>\n",
              "      <td>0.853241</td>\n",
              "      <td>0.774943</td>\n",
              "      <td>0.843984</td>\n",
              "      <td>0.482150</td>\n",
              "      <td>-0.299554</td>\n",
              "      <td>-0.088847</td>\n",
              "      <td>-0.207035</td>\n",
              "      <td>-0.144937</td>\n",
              "      <td>0.771752</td>\n",
              "      <td>-0.112479</td>\n",
              "      <td>-0.335822</td>\n",
              "      <td>0.038957</td>\n",
              "      <td>0.037117</td>\n",
              "      <td>0.030880</td>\n",
              "      <td>0.082770</td>\n",
              "      <td>0.169907</td>\n",
              "      <td>0.286155</td>\n",
              "      <td>-0.222465</td>\n",
              "      <td>0.532038</td>\n",
              "      <td>1.000000</td>\n",
              "    </tr>\n",
              "  </tbody>\n",
              "</table>\n",
              "<p>672 rows × 672 columns</p>\n",
              "</div>\n",
              "      <button class=\"colab-df-convert\" onclick=\"convertToInteractive('df-d73ce432-d73b-492f-86c1-39696e438861')\"\n",
              "              title=\"Convert this dataframe to an interactive table.\"\n",
              "              style=\"display:none;\">\n",
              "        \n",
              "  <svg xmlns=\"http://www.w3.org/2000/svg\" height=\"24px\"viewBox=\"0 0 24 24\"\n",
              "       width=\"24px\">\n",
              "    <path d=\"M0 0h24v24H0V0z\" fill=\"none\"/>\n",
              "    <path d=\"M18.56 5.44l.94 2.06.94-2.06 2.06-.94-2.06-.94-.94-2.06-.94 2.06-2.06.94zm-11 1L8.5 8.5l.94-2.06 2.06-.94-2.06-.94L8.5 2.5l-.94 2.06-2.06.94zm10 10l.94 2.06.94-2.06 2.06-.94-2.06-.94-.94-2.06-.94 2.06-2.06.94z\"/><path d=\"M17.41 7.96l-1.37-1.37c-.4-.4-.92-.59-1.43-.59-.52 0-1.04.2-1.43.59L10.3 9.45l-7.72 7.72c-.78.78-.78 2.05 0 2.83L4 21.41c.39.39.9.59 1.41.59.51 0 1.02-.2 1.41-.59l7.78-7.78 2.81-2.81c.8-.78.8-2.07 0-2.86zM5.41 20L4 18.59l7.72-7.72 1.47 1.35L5.41 20z\"/>\n",
              "  </svg>\n",
              "      </button>\n",
              "      \n",
              "  <style>\n",
              "    .colab-df-container {\n",
              "      display:flex;\n",
              "      flex-wrap:wrap;\n",
              "      gap: 12px;\n",
              "    }\n",
              "\n",
              "    .colab-df-convert {\n",
              "      background-color: #E8F0FE;\n",
              "      border: none;\n",
              "      border-radius: 50%;\n",
              "      cursor: pointer;\n",
              "      display: none;\n",
              "      fill: #1967D2;\n",
              "      height: 32px;\n",
              "      padding: 0 0 0 0;\n",
              "      width: 32px;\n",
              "    }\n",
              "\n",
              "    .colab-df-convert:hover {\n",
              "      background-color: #E2EBFA;\n",
              "      box-shadow: 0px 1px 2px rgba(60, 64, 67, 0.3), 0px 1px 3px 1px rgba(60, 64, 67, 0.15);\n",
              "      fill: #174EA6;\n",
              "    }\n",
              "\n",
              "    [theme=dark] .colab-df-convert {\n",
              "      background-color: #3B4455;\n",
              "      fill: #D2E3FC;\n",
              "    }\n",
              "\n",
              "    [theme=dark] .colab-df-convert:hover {\n",
              "      background-color: #434B5C;\n",
              "      box-shadow: 0px 1px 3px 1px rgba(0, 0, 0, 0.15);\n",
              "      filter: drop-shadow(0px 1px 2px rgba(0, 0, 0, 0.3));\n",
              "      fill: #FFFFFF;\n",
              "    }\n",
              "  </style>\n",
              "\n",
              "      <script>\n",
              "        const buttonEl =\n",
              "          document.querySelector('#df-d73ce432-d73b-492f-86c1-39696e438861 button.colab-df-convert');\n",
              "        buttonEl.style.display =\n",
              "          google.colab.kernel.accessAllowed ? 'block' : 'none';\n",
              "\n",
              "        async function convertToInteractive(key) {\n",
              "          const element = document.querySelector('#df-d73ce432-d73b-492f-86c1-39696e438861');\n",
              "          const dataTable =\n",
              "            await google.colab.kernel.invokeFunction('convertToInteractive',\n",
              "                                                     [key], {});\n",
              "          if (!dataTable) return;\n",
              "\n",
              "          const docLinkHtml = 'Like what you see? Visit the ' +\n",
              "            '<a target=\"_blank\" href=https://colab.research.google.com/notebooks/data_table.ipynb>data table notebook</a>'\n",
              "            + ' to learn more about interactive tables.';\n",
              "          element.innerHTML = '';\n",
              "          dataTable['output_type'] = 'display_data';\n",
              "          await google.colab.output.renderOutput(dataTable, element);\n",
              "          const docLink = document.createElement('div');\n",
              "          docLink.innerHTML = docLinkHtml;\n",
              "          element.appendChild(docLink);\n",
              "        }\n",
              "      </script>\n",
              "    </div>\n",
              "  </div>\n",
              "  "
            ],
            "text/plain": [
              "                              zero_crossing_rate - 0 - row  ...  poly_features - 1 - cd1\n",
              "zero_crossing_rate - 0 - row                      1.000000  ...                -0.081524\n",
              "chroma_stft - 0 - row                            -0.030797  ...                 0.134663\n",
              "chroma_stft - 1 - row                            -0.154036  ...                 0.135078\n",
              "chroma_stft - 2 - row                            -0.202232  ...                 0.108703\n",
              "chroma_stft - 3 - row                            -0.234756  ...                 0.062523\n",
              "...                                                    ...  ...                      ...\n",
              "spectral_contrast - 4 - cd1                      -0.065335  ...                 0.169907\n",
              "spectral_contrast - 5 - cd1                      -0.387718  ...                 0.286155\n",
              "spectral_rolloff - 0 - cd1                        0.239936  ...                -0.222465\n",
              "poly_features - 0 - cd1                          -0.027580  ...                 0.532038\n",
              "poly_features - 1 - cd1                          -0.081524  ...                 1.000000\n",
              "\n",
              "[672 rows x 672 columns]"
            ]
          },
          "metadata": {},
          "execution_count": 5
        }
      ]
    },
    {
      "cell_type": "markdown",
      "source": [
        "# Checking whether there is any null values "
      ],
      "metadata": {
        "id": "9DHit2OMD-Db"
      }
    },
    {
      "cell_type": "code",
      "source": [
        "df.isnull().sum()"
      ],
      "execution_count": 6,
      "outputs": [
        {
          "output_type": "execute_result",
          "data": {
            "text/plain": [
              "feature_class                   0\n",
              "zero_crossing_rate - 0 - row    0\n",
              "chroma_stft - 0 - row           0\n",
              "chroma_stft - 1 - row           0\n",
              "chroma_stft - 2 - row           0\n",
              "                               ..\n",
              "spectral_contrast - 4 - cd1     0\n",
              "spectral_contrast - 5 - cd1     0\n",
              "spectral_rolloff - 0 - cd1      0\n",
              "poly_features - 0 - cd1         0\n",
              "poly_features - 1 - cd1         0\n",
              "Length: 673, dtype: int64"
            ]
          },
          "metadata": {},
          "execution_count": 6
        }
      ],
      "metadata": {
        "colab": {
          "base_uri": "https://localhost:8080/"
        },
        "id": "Pa2excmOD-Df",
        "outputId": "c5667862-85c7-4d7e-d651-5fa7b59295ed"
      }
    },
    {
      "cell_type": "code",
      "source": [
        "df.shape"
      ],
      "execution_count": 7,
      "outputs": [
        {
          "output_type": "execute_result",
          "data": {
            "text/plain": [
              "(800, 673)"
            ]
          },
          "metadata": {},
          "execution_count": 7
        }
      ],
      "metadata": {
        "colab": {
          "base_uri": "https://localhost:8080/"
        },
        "id": "zg3pwPjtD-Dj",
        "outputId": "8bd39078-15c6-4876-bb29-a315e881b1e8"
      }
    },
    {
      "cell_type": "markdown",
      "source": [
        "# Data Scaling - Quantile Transformer is used\n"
      ],
      "metadata": {
        "id": "QlRdQM9fD-D1"
      }
    },
    {
      "cell_type": "code",
      "source": [
        "\n",
        "from sklearn.preprocessing import QuantileTransformer\n",
        "\n",
        "#quantile transform - scaling - uniform distribution\n",
        "qt = QuantileTransformer(n_quantiles=100)\n",
        "X = qt.fit_transform(X)\n"
      ],
      "execution_count": 8,
      "outputs": [],
      "metadata": {
        "id": "1RivxLN6D-D3"
      }
    },
    {
      "cell_type": "markdown",
      "source": [
        "# Splitting dataset into training set and testing set for better generalisation"
      ],
      "metadata": {
        "id": "u-0_Rgj6D-D4"
      }
    },
    {
      "cell_type": "code",
      "source": [
        "from sklearn.model_selection import train_test_split\n",
        "X_train, X_test, y_train, y_test = train_test_split(X, y, test_size=0.2, random_state=1,stratify=y)\n"
      ],
      "execution_count": 9,
      "outputs": [],
      "metadata": {
        "id": "EHPQPGA8D-D4"
      }
    },
    {
      "cell_type": "markdown",
      "source": [
        "# Running SVM with default hyperparameter."
      ],
      "metadata": {
        "id": "3DEjyHoYD-D6"
      }
    },
    {
      "cell_type": "code",
      "source": [
        "from sklearn.svm import SVC\n",
        "from sklearn import metrics\n",
        "svc=SVC() #Default hyperparameters\n",
        "svc.fit(X_train,y_train)\n",
        "y_pred=svc.predict(X_test)\n",
        "print('Accuracy Score:')\n",
        "print(metrics.accuracy_score(y_test,y_pred))"
      ],
      "execution_count": 10,
      "outputs": [
        {
          "output_type": "stream",
          "name": "stdout",
          "text": [
            "Accuracy Score:\n",
            "0.95625\n"
          ]
        }
      ],
      "metadata": {
        "colab": {
          "base_uri": "https://localhost:8080/"
        },
        "id": "UzCe8P3bD-D7",
        "outputId": "b5305960-3c27-45aa-8c41-fa4a4d79dc95"
      }
    },
    {
      "cell_type": "markdown",
      "source": [
        "# Default Linear kernel"
      ],
      "metadata": {
        "id": "y02Opo_4D-D7"
      }
    },
    {
      "cell_type": "code",
      "source": [
        "svc=SVC(kernel='linear')\n",
        "svc.fit(X_train,y_train)\n",
        "y_pred=svc.predict(X_test)\n",
        "print('Accuracy Score:')\n",
        "print(metrics.accuracy_score(y_test,y_pred))"
      ],
      "execution_count": 11,
      "outputs": [
        {
          "output_type": "stream",
          "name": "stdout",
          "text": [
            "Accuracy Score:\n",
            "0.98125\n"
          ]
        }
      ],
      "metadata": {
        "colab": {
          "base_uri": "https://localhost:8080/"
        },
        "id": "MOHZCnGED-D8",
        "outputId": "91fe3b98-3923-410f-ccf7-2d121298f882"
      }
    },
    {
      "cell_type": "markdown",
      "source": [
        "# Default RBF kernel"
      ],
      "metadata": {
        "id": "Vw_N4CTBD-D9"
      }
    },
    {
      "cell_type": "code",
      "source": [
        "svc=SVC(kernel='rbf')\n",
        "svc.fit(X_train,y_train)\n",
        "y_pred=svc.predict(X_test)\n",
        "print('Accuracy Score:')\n",
        "print(metrics.accuracy_score(y_test,y_pred))"
      ],
      "execution_count": 12,
      "outputs": [
        {
          "output_type": "stream",
          "name": "stdout",
          "text": [
            "Accuracy Score:\n",
            "0.95625\n"
          ]
        }
      ],
      "metadata": {
        "colab": {
          "base_uri": "https://localhost:8080/"
        },
        "id": "KlaEzHyKD-D9",
        "outputId": "df42e65e-fb2d-4d9c-9d01-4cfc18cfbb9e"
      }
    },
    {
      "cell_type": "markdown",
      "source": [
        "# Default Polynomial kernel"
      ],
      "metadata": {
        "id": "xfWsmdQND-D-"
      }
    },
    {
      "cell_type": "code",
      "source": [
        "svc=SVC(kernel='poly')\n",
        "svc.fit(X_train,y_train)\n",
        "y_pred=svc.predict(X_test)\n",
        "print('Accuracy Score:')\n",
        "print(metrics.accuracy_score(y_test,y_pred))"
      ],
      "execution_count": 13,
      "outputs": [
        {
          "output_type": "stream",
          "name": "stdout",
          "text": [
            "Accuracy Score:\n",
            "0.9625\n"
          ]
        }
      ],
      "metadata": {
        "colab": {
          "base_uri": "https://localhost:8080/"
        },
        "id": "bHQH0Ei-D-D_",
        "outputId": "c846c215-897d-471f-9c91-fde2cd0ff4b8"
      }
    },
    {
      "cell_type": "markdown",
      "source": [
        "# Performing K-fold cross validation with different kernels"
      ],
      "metadata": {
        "id": "5xLfPnUTD-EB"
      }
    },
    {
      "cell_type": "markdown",
      "source": [
        "# CV on Linear kernel"
      ],
      "metadata": {
        "id": "7poLM9HcD-EB"
      }
    },
    {
      "cell_type": "code",
      "source": [
        "from sklearn.model_selection import cross_val_score\n",
        "svc=SVC(kernel='linear')\n",
        "scores = cross_val_score(svc, X, y, cv=10, scoring='accuracy') #cv is cross validation\n",
        "print(scores)"
      ],
      "execution_count": 14,
      "outputs": [
        {
          "output_type": "stream",
          "name": "stdout",
          "text": [
            "[1.     0.8875 0.95   0.875  0.875  0.95   1.     1.     0.975  0.85  ]\n"
          ]
        }
      ],
      "metadata": {
        "colab": {
          "base_uri": "https://localhost:8080/"
        },
        "id": "GD0RSVzqD-EC",
        "outputId": "5031134b-39a6-4a62-ec85-8107842cdc22"
      }
    },
    {
      "cell_type": "markdown",
      "source": [
        "We can see above how the accuracy score is different everytime.This shows that accuracy score depends upon how the datasets got split."
      ],
      "metadata": {
        "id": "8AwRCMDBD-EE"
      }
    },
    {
      "cell_type": "code",
      "source": [
        "print(scores.mean())"
      ],
      "execution_count": 15,
      "outputs": [
        {
          "output_type": "stream",
          "name": "stdout",
          "text": [
            "0.9362499999999999\n"
          ]
        }
      ],
      "metadata": {
        "colab": {
          "base_uri": "https://localhost:8080/"
        },
        "id": "njwxEHJHD-EE",
        "outputId": "7dd10d83-e914-4d8b-a042-1af1200ce162"
      }
    },
    {
      "cell_type": "markdown",
      "source": [
        "In K-fold cross validation we generally take the mean of all the scores."
      ],
      "metadata": {
        "id": "DGkEKSM7D-EF"
      }
    },
    {
      "cell_type": "markdown",
      "source": [
        "# CV on rbf kernel"
      ],
      "metadata": {
        "id": "gk9lOwaoD-EG"
      }
    },
    {
      "cell_type": "code",
      "source": [
        "from sklearn.model_selection import cross_val_score\n",
        "svc=SVC(kernel='rbf')\n",
        "scores = cross_val_score(svc, X, y, cv=10, scoring='accuracy') #cv is cross validation\n",
        "print(scores)"
      ],
      "execution_count": 16,
      "outputs": [
        {
          "output_type": "stream",
          "name": "stdout",
          "text": [
            "[1.     0.9125 0.975  0.9375 0.85   0.9875 0.9875 1.     0.975  0.7875]\n"
          ]
        }
      ],
      "metadata": {
        "colab": {
          "base_uri": "https://localhost:8080/"
        },
        "id": "yCZQLfJCD-EG",
        "outputId": "6e749045-761f-4144-edf9-99947b6e3baa"
      }
    },
    {
      "cell_type": "code",
      "source": [
        "print(scores.mean())"
      ],
      "execution_count": 17,
      "outputs": [
        {
          "output_type": "stream",
          "name": "stdout",
          "text": [
            "0.9412499999999999\n"
          ]
        }
      ],
      "metadata": {
        "colab": {
          "base_uri": "https://localhost:8080/"
        },
        "id": "xn43u5qJD-EH",
        "outputId": "3f156948-ae83-4df3-d883-54ad41fe9914"
      }
    },
    {
      "cell_type": "markdown",
      "source": [
        "# CV on Polynomial kernel"
      ],
      "metadata": {
        "id": "VZ-_G8GLD-EH"
      }
    },
    {
      "cell_type": "code",
      "source": [
        "from sklearn.model_selection import cross_val_score\n",
        "svc=SVC(kernel='poly')\n",
        "scores = cross_val_score(svc, X, y, cv=10, scoring='accuracy') #cv is cross validation\n",
        "print(scores)"
      ],
      "execution_count": 18,
      "outputs": [
        {
          "output_type": "stream",
          "name": "stdout",
          "text": [
            "[1.     0.8625 0.9875 0.9125 0.8875 0.9625 0.9875 1.     1.     0.8   ]\n"
          ]
        }
      ],
      "metadata": {
        "colab": {
          "base_uri": "https://localhost:8080/"
        },
        "id": "ApGLpJABD-EH",
        "outputId": "5c2d2927-df90-40cc-c276-76e19a6e30cf"
      }
    },
    {
      "cell_type": "code",
      "source": [
        "print(scores.mean())"
      ],
      "execution_count": 19,
      "outputs": [
        {
          "output_type": "stream",
          "name": "stdout",
          "text": [
            "0.9400000000000002\n"
          ]
        }
      ],
      "metadata": {
        "colab": {
          "base_uri": "https://localhost:8080/"
        },
        "id": "h2ecaMAXD-EI",
        "outputId": "5846ff2d-c86f-445c-abd0-dbb92da8635f"
      }
    },
    {
      "cell_type": "markdown",
      "source": [
        "**When K-fold cross validation is done we can see different score in each iteration.This happens because when we use train_test_split method,the dataset get split in random manner into testing and training dataset.Thus it depends on how the dataset got split and which samples are training set and which samples are in testing set.**\n",
        "\n",
        "**With K-fold cross validation we can see that the dataset got split into 10 equal parts thus covering all the data into training as well into testing set.This is the reason we got 10 different accuracy score.**"
      ],
      "metadata": {
        "id": "yPh1P1fOD-EI"
      }
    },
    {
      "cell_type": "markdown",
      "source": [
        "### Taking all the values of C and checking out the accuracy score with kernel as linear."
      ],
      "metadata": {
        "id": "RAMfWkSoD-EJ"
      }
    },
    {
      "cell_type": "markdown",
      "source": [
        "**The C parameter tells the SVM optimization how much you want to avoid misclassifying each training example. For large values of C, the optimization will choose a smaller-margin hyperplane if that hyperplane does a better job of getting all the training points classified correctly. Conversely, a very small value of C will cause the optimizer to look for a larger-margin separating hyperplane, even if that hyperplane misclassifies more points.**\n",
        "\n",
        "**Thus for a very large values we can cause overfitting of the model and for a very small value of C we can cause underfitting.Thus the value of C must be chosen in such a manner that it generalised the unseen data well**"
      ],
      "metadata": {
        "id": "3oJ_ta3lD-EJ"
      }
    },
    {
      "cell_type": "code",
      "source": [
        "C_range=list(range(1,26))\n",
        "acc_score=[]\n",
        "for c in C_range:\n",
        "    svc = SVC(kernel='linear', C=c)\n",
        "    scores = cross_val_score(svc, X, y, cv=10, scoring='accuracy')\n",
        "    acc_score.append(scores.mean())\n",
        "print(acc_score)    \n",
        "    "
      ],
      "execution_count": 20,
      "outputs": [
        {
          "output_type": "stream",
          "name": "stdout",
          "text": [
            "[0.9362499999999999, 0.9362499999999999, 0.9362499999999999, 0.9362499999999999, 0.9362499999999999, 0.9362499999999999, 0.9362499999999999, 0.9362499999999999, 0.9362499999999999, 0.9362499999999999, 0.9362499999999999, 0.9362499999999999, 0.9362499999999999, 0.9362499999999999, 0.9362499999999999, 0.9362499999999999, 0.9362499999999999, 0.9362499999999999, 0.9362499999999999, 0.9362499999999999, 0.9362499999999999, 0.9362499999999999, 0.9362499999999999, 0.9362499999999999, 0.9362499999999999]\n"
          ]
        }
      ],
      "metadata": {
        "colab": {
          "base_uri": "https://localhost:8080/"
        },
        "id": "8OnQIhyHD-EK",
        "outputId": "8356f260-0456-488f-9336-83a17103f0a8"
      }
    },
    {
      "cell_type": "code",
      "source": [
        "import matplotlib.pyplot as plt\n",
        "%matplotlib inline\n",
        "\n",
        "\n",
        "C_values=list(range(1,26))\n",
        "# plot the value of C for SVM (x-axis) versus the cross-validated accuracy (y-axis)\n",
        "plt.plot(C_values,acc_score)\n",
        "plt.xticks(np.arange(0,27,2))\n",
        "plt.xlabel('Value of C for SVC')\n",
        "plt.ylabel('Cross-Validated Accuracy')"
      ],
      "execution_count": 21,
      "outputs": [
        {
          "output_type": "execute_result",
          "data": {
            "text/plain": [
              "Text(0, 0.5, 'Cross-Validated Accuracy')"
            ]
          },
          "metadata": {},
          "execution_count": 21
        },
        {
          "output_type": "display_data",
          "data": {
            "image/png": "[encoded data removed]",
            "text/plain": [
              "<Figure size 432x288 with 1 Axes>"
            ]
          },
          "metadata": {
            "needs_background": "light"
          }
        }
      ],
      "metadata": {
        "colab": {
          "base_uri": "https://localhost:8080/",
          "height": 296
        },
        "id": "TEfz-lWoD-EK",
        "outputId": "f0bed6a6-60c3-402f-c234-c8e34e3492cf"
      }
    },
    {
      "cell_type": "markdown",
      "source": [
        "### Let us look into more detail of what is the exact value of C which is giving us a good accuracy score"
      ],
      "metadata": {
        "id": "Lmp-52iwD-EL"
      }
    },
    {
      "cell_type": "code",
      "source": [
        "C_range=list(np.arange(0.1,6,0.1))\n",
        "acc_score=[]\n",
        "for c in C_range:\n",
        "    svc = SVC(kernel='linear', C=c)\n",
        "    scores = cross_val_score(svc, X, y, cv=10, scoring='accuracy')\n",
        "    acc_score.append(scores.mean())\n",
        "print(acc_score)    \n",
        "    "
      ],
      "execution_count": 22,
      "outputs": [
        {
          "output_type": "stream",
          "name": "stdout",
          "text": [
            "[0.9362499999999999, 0.9349999999999999, 0.9362499999999999, 0.9362499999999999, 0.9362499999999999, 0.9362499999999999, 0.9362499999999999, 0.9362499999999999, 0.9362499999999999, 0.9362499999999999, 0.9362499999999999, 0.9362499999999999, 0.9362499999999999, 0.9362499999999999, 0.9362499999999999, 0.9362499999999999, 0.9362499999999999, 0.9362499999999999, 0.9362499999999999, 0.9362499999999999, 0.9362499999999999, 0.9362499999999999, 0.9362499999999999, 0.9362499999999999, 0.9362499999999999, 0.9362499999999999, 0.9362499999999999, 0.9362499999999999, 0.9362499999999999, 0.9362499999999999, 0.9362499999999999, 0.9362499999999999, 0.9362499999999999, 0.9362499999999999, 0.9362499999999999, 0.9362499999999999, 0.9362499999999999, 0.9362499999999999, 0.9362499999999999, 0.9362499999999999, 0.9362499999999999, 0.9362499999999999, 0.9362499999999999, 0.9362499999999999, 0.9362499999999999, 0.9362499999999999, 0.9362499999999999, 0.9362499999999999, 0.9362499999999999, 0.9362499999999999, 0.9362499999999999, 0.9362499999999999, 0.9362499999999999, 0.9362499999999999, 0.9362499999999999, 0.9362499999999999, 0.9362499999999999, 0.9362499999999999, 0.9362499999999999]\n"
          ]
        }
      ],
      "metadata": {
        "colab": {
          "base_uri": "https://localhost:8080/"
        },
        "id": "09ymCsA_D-EL",
        "outputId": "6be99813-69a8-49c4-98e9-705fec1c4c70"
      }
    },
    {
      "cell_type": "code",
      "source": [
        "import matplotlib.pyplot as plt\n",
        "%matplotlib inline\n",
        "\n",
        "C_values=list(np.arange(0.1,6,0.1))\n",
        "# plot the value of C for SVM (x-axis) versus the cross-validated accuracy (y-axis)\n",
        "plt.plot(C_values,acc_score)\n",
        "plt.xticks(np.arange(0.0,6,0.3))\n",
        "plt.xlabel('Value of C for SVC ')\n",
        "plt.ylabel('Cross-Validated Accuracy')"
      ],
      "execution_count": 23,
      "outputs": [
        {
          "output_type": "execute_result",
          "data": {
            "text/plain": [
              "Text(0, 0.5, 'Cross-Validated Accuracy')"
            ]
          },
          "metadata": {},
          "execution_count": 23
        },
        {
          "output_type": "display_data",
          "data": {
            "image/png": "[encoded data removed]",
            "text/plain": [
              "<Figure size 432x288 with 1 Axes>"
            ]
          },
          "metadata": {
            "needs_background": "light"
          }
        }
      ],
      "metadata": {
        "colab": {
          "base_uri": "https://localhost:8080/",
          "height": 296
        },
        "id": "zp8UT2NGD-EM",
        "outputId": "f90de799-89ee-46da-c557-268538a96fac"
      }
    },
    {
      "cell_type": "markdown",
      "source": [
        "### Taking kernel as **rbf** and taking different values gamma"
      ],
      "metadata": {
        "id": "dzvomRDFD-EN"
      }
    },
    {
      "cell_type": "markdown",
      "source": [
        "**Technically, the gamma parameter is the inverse of the standard deviation of the RBF kernel (Gaussian function), which is used as similarity measure between two points. Intuitively, a small gamma value define a Gaussian function with a large variance. In this case, two points can be considered similar even if are far from each other. In the other hand, a large gamma value means define a Gaussian function with a small variance and in this case, two points are considered similar just if they are close to each other**"
      ],
      "metadata": {
        "id": "zA0V9SBBD-EN"
      }
    },
    {
      "cell_type": "code",
      "source": [
        "gamma_range=[0.0001,0.001,0.01,0.1,1,10,100]\n",
        "acc_score=[]\n",
        "for g in gamma_range:\n",
        "    svc = SVC(kernel='rbf', gamma=g)\n",
        "    scores = cross_val_score(svc, X, y, cv=10, scoring='accuracy')\n",
        "    acc_score.append(scores.mean())\n",
        "print(acc_score)    \n",
        "    "
      ],
      "execution_count": 24,
      "outputs": [
        {
          "output_type": "stream",
          "name": "stdout",
          "text": [
            "[0.8412499999999999, 0.9237500000000001, 0.94375, 0.9112500000000001, 0.5, 0.5, 0.5]\n"
          ]
        }
      ],
      "metadata": {
        "colab": {
          "base_uri": "https://localhost:8080/"
        },
        "id": "bYxPraOAD-EO",
        "outputId": "737a19c4-d290-46ec-d044-66d6253faef5"
      }
    },
    {
      "cell_type": "code",
      "source": [
        "import matplotlib.pyplot as plt\n",
        "%matplotlib inline\n",
        "\n",
        "gamma_range=[0.0001,0.001,0.01,0.1,1,10,100]\n",
        "\n",
        "# plot the value of C for SVM (x-axis) versus the cross-validated accuracy (y-axis)\n",
        "plt.plot(gamma_range,acc_score)\n",
        "plt.xlabel('Value of gamma for SVC ')\n",
        "plt.xticks(np.arange(0.0001,100,5))\n",
        "plt.ylabel('Cross-Validated Accuracy')"
      ],
      "execution_count": 25,
      "outputs": [
        {
          "output_type": "execute_result",
          "data": {
            "text/plain": [
              "Text(0, 0.5, 'Cross-Validated Accuracy')"
            ]
          },
          "metadata": {},
          "execution_count": 25
        },
        {
          "output_type": "display_data",
          "data": {
            "image/png": "[encoded data removed]",
            "text/plain": [
              "<Figure size 432x288 with 1 Axes>"
            ]
          },
          "metadata": {
            "needs_background": "light"
          }
        }
      ],
      "metadata": {
        "colab": {
          "base_uri": "https://localhost:8080/",
          "height": 296
        },
        "id": "4yWrZdMiD-EO",
        "outputId": "34dd64bf-bae9-4043-aaab-f8b91d766360"
      }
    },
    {
      "cell_type": "code",
      "source": [
        "gamma_range=[0.0001,0.001,0.01,0.1]\n",
        "acc_score=[]\n",
        "for g in gamma_range:\n",
        "    svc = SVC(kernel='rbf', gamma=g)\n",
        "    scores = cross_val_score(svc, X, y, cv=10, scoring='accuracy')\n",
        "    acc_score.append(scores.mean())\n",
        "print(acc_score)    \n",
        "    "
      ],
      "execution_count": 26,
      "outputs": [
        {
          "output_type": "stream",
          "name": "stdout",
          "text": [
            "[0.8412499999999999, 0.9237500000000001, 0.94375, 0.9112500000000001]\n"
          ]
        }
      ],
      "metadata": {
        "colab": {
          "base_uri": "https://localhost:8080/"
        },
        "id": "A8Hwc2uUD-EP",
        "outputId": "e30851f4-4347-4822-fd73-a38038e4f212"
      }
    },
    {
      "cell_type": "code",
      "source": [
        "import matplotlib.pyplot as plt\n",
        "%matplotlib inline\n",
        "\n",
        "gamma_range=[0.0001,0.001,0.01,0.1]\n",
        "\n",
        "# plot the value of C for SVM (x-axis) versus the cross-validated accuracy (y-axis)\n",
        "plt.plot(gamma_range,acc_score)\n",
        "plt.xlabel('Value of gamma for SVC ')\n",
        "plt.ylabel('Cross-Validated Accuracy')"
      ],
      "execution_count": 27,
      "outputs": [
        {
          "output_type": "execute_result",
          "data": {
            "text/plain": [
              "Text(0, 0.5, 'Cross-Validated Accuracy')"
            ]
          },
          "metadata": {},
          "execution_count": 27
        },
        {
          "output_type": "display_data",
          "data": {
            "image/png": "[encoded data removed]",
            "text/plain": [
              "<Figure size 432x288 with 1 Axes>"
            ]
          },
          "metadata": {
            "needs_background": "light"
          }
        }
      ],
      "metadata": {
        "colab": {
          "base_uri": "https://localhost:8080/",
          "height": 296
        },
        "id": "qGMctV4zD-EQ",
        "outputId": "9dd854d9-238b-4186-fb49-074fc1a19b51"
      }
    },
    {
      "cell_type": "markdown",
      "source": [
        "The score increases steadily and reaches its peak  and then decreases."
      ],
      "metadata": {
        "id": "sTCARhwFD-EQ"
      }
    },
    {
      "cell_type": "markdown",
      "source": [
        "more details for gamma values"
      ],
      "metadata": {
        "id": "LxyPMpyXD-ER"
      }
    },
    {
      "cell_type": "code",
      "source": [
        "gamma_range=[0.01,0.02,0.03,0.04,0.05]\n",
        "acc_score=[]\n",
        "for g in gamma_range:\n",
        "    svc = SVC(kernel='rbf', gamma=g)\n",
        "    scores = cross_val_score(svc, X, y, cv=10, scoring='accuracy')\n",
        "    acc_score.append(scores.mean())\n",
        "print(acc_score)    \n",
        "    "
      ],
      "execution_count": 28,
      "outputs": [
        {
          "output_type": "stream",
          "name": "stdout",
          "text": [
            "[0.94375, 0.9412499999999999, 0.9412499999999999, 0.9400000000000001, 0.94375]\n"
          ]
        }
      ],
      "metadata": {
        "colab": {
          "base_uri": "https://localhost:8080/"
        },
        "id": "AnpTlhq-D-ER",
        "outputId": "f71a52af-73e0-450b-a424-c203119d241f"
      }
    },
    {
      "cell_type": "code",
      "source": [
        "import matplotlib.pyplot as plt\n",
        "%matplotlib inline\n",
        "\n",
        "gamma_range=[0.01,0.02,0.03,0.04,0.05]\n",
        "\n",
        "# plot the value of C for SVM (x-axis) versus the cross-validated accuracy (y-axis)\n",
        "plt.plot(gamma_range,acc_score)\n",
        "plt.xlabel('Value of gamma for SVC ')\n",
        "plt.ylabel('Cross-Validated Accuracy')"
      ],
      "execution_count": 29,
      "outputs": [
        {
          "output_type": "execute_result",
          "data": {
            "text/plain": [
              "Text(0, 0.5, 'Cross-Validated Accuracy')"
            ]
          },
          "metadata": {},
          "execution_count": 29
        },
        {
          "output_type": "display_data",
          "data": {
            "image/png": "[encoded data removed]",
            "text/plain": [
              "<Figure size 432x288 with 1 Axes>"
            ]
          },
          "metadata": {
            "needs_background": "light"
          }
        }
      ],
      "metadata": {
        "colab": {
          "base_uri": "https://localhost:8080/",
          "height": 296
        },
        "id": "_2AJXJvID-ES",
        "outputId": "f9f1dc33-f62d-4a2a-d570-33f2011a9c94"
      }
    },
    {
      "cell_type": "markdown",
      "source": [
        "# Taking polynomial kernel with different degree"
      ],
      "metadata": {
        "id": "dRr5IHxaD-ET"
      }
    },
    {
      "cell_type": "code",
      "source": [
        "degree=[2,3,4,5,6]\n",
        "acc_score=[]\n",
        "for d in degree:\n",
        "    svc = SVC(kernel='poly', degree=d)\n",
        "    scores = cross_val_score(svc, X, y, cv=10, scoring='accuracy')\n",
        "    acc_score.append(scores.mean())\n",
        "print(acc_score)    \n",
        "    "
      ],
      "execution_count": 30,
      "outputs": [
        {
          "output_type": "stream",
          "name": "stdout",
          "text": [
            "[0.93625, 0.9400000000000002, 0.9412499999999999, 0.93125, 0.9237500000000001]\n"
          ]
        }
      ],
      "metadata": {
        "colab": {
          "base_uri": "https://localhost:8080/"
        },
        "id": "jWnpatuMD-ET",
        "outputId": "22bbcf84-f6c5-4928-a5f1-ef732f9af0d9"
      }
    },
    {
      "cell_type": "code",
      "source": [
        "import matplotlib.pyplot as plt\n",
        "%matplotlib inline\n",
        "\n",
        "degree=[2,3,4,5,6]\n",
        "\n",
        "# plot the value of C for SVM (x-axis) versus the cross-validated accuracy (y-axis)\n",
        "plt.plot(degree,acc_score,color='r')\n",
        "plt.xlabel('degrees for SVC ')\n",
        "plt.ylabel('Cross-Validated Accuracy')"
      ],
      "execution_count": 31,
      "outputs": [
        {
          "output_type": "execute_result",
          "data": {
            "text/plain": [
              "Text(0, 0.5, 'Cross-Validated Accuracy')"
            ]
          },
          "metadata": {},
          "execution_count": 31
        },
        {
          "output_type": "display_data",
          "data": {
            "image/png": "[encoded data removed]",
            "text/plain": [
              "<Figure size 432x288 with 1 Axes>"
            ]
          },
          "metadata": {
            "needs_background": "light"
          }
        }
      ],
      "metadata": {
        "colab": {
          "base_uri": "https://localhost:8080/",
          "height": 296
        },
        "id": "bGtlD9BLD-EU",
        "outputId": "5359c291-22df-4c22-bb4b-c2bf2025d1e1"
      }
    },
    {
      "cell_type": "markdown",
      "source": [
        "# performing SVM by taking hyperparameter C=0.1 and kernel as linear \n",
        "\n",
        "\n",
        "----------"
      ],
      "metadata": {
        "id": "8ls0v_MuD-EV"
      }
    },
    {
      "cell_type": "code",
      "source": [
        "from sklearn.svm import SVC\n",
        "svc= SVC(kernel='linear',C=0.1)\n",
        "svc.fit(X_train,y_train)\n",
        "y_predict=svc.predict(X_test)\n",
        "accuracy_score= metrics.accuracy_score(y_test,y_predict)\n",
        "print(accuracy_score)"
      ],
      "execution_count": 32,
      "outputs": [
        {
          "output_type": "stream",
          "name": "stdout",
          "text": [
            "0.96875\n"
          ]
        }
      ],
      "metadata": {
        "colab": {
          "base_uri": "https://localhost:8080/"
        },
        "id": "KWYNFDoeD-EV",
        "outputId": "5917b214-bdbb-43b9-86c5-3c34463a9dd6"
      }
    },
    {
      "cell_type": "markdown",
      "source": [
        "# With K-fold cross validation(where K=10)"
      ],
      "metadata": {
        "id": "Qc8y7vG-D-EW"
      }
    },
    {
      "cell_type": "code",
      "source": [
        "from sklearn.model_selection import cross_val_score\n",
        "svc=SVC(kernel='linear',C=0.1)\n",
        "scores = cross_val_score(svc, X, y, cv=10, scoring='accuracy')\n",
        "print(scores)"
      ],
      "execution_count": 33,
      "outputs": [
        {
          "output_type": "stream",
          "name": "stdout",
          "text": [
            "[1.     0.9    0.9375 0.9    0.8625 0.9625 1.     1.     0.975  0.825 ]\n"
          ]
        }
      ],
      "metadata": {
        "colab": {
          "base_uri": "https://localhost:8080/"
        },
        "id": "EbUiiAymD-EW",
        "outputId": "ad27a3f4-2c5f-4ba2-c204-dce8cfde6838"
      }
    },
    {
      "cell_type": "markdown",
      "source": [
        "Taking the mean of all the scores"
      ],
      "metadata": {
        "id": "ghQ2TKFJD-EW"
      }
    },
    {
      "cell_type": "code",
      "source": [
        "print(scores.mean())"
      ],
      "execution_count": 34,
      "outputs": [
        {
          "output_type": "stream",
          "name": "stdout",
          "text": [
            "0.9362499999999999\n"
          ]
        }
      ],
      "metadata": {
        "colab": {
          "base_uri": "https://localhost:8080/"
        },
        "id": "ll2k6z_ND-EX",
        "outputId": "de6a6cff-8429-4a89-dee0-3a39cf7204d0"
      }
    },
    {
      "cell_type": "markdown",
      "source": [
        "# performing SVM by taking hyperparameter gamma=0.01 and kernel as rbf"
      ],
      "metadata": {
        "id": "3qGkESWvD-EY"
      }
    },
    {
      "cell_type": "code",
      "source": [
        "from sklearn.svm import SVC\n",
        "svc= SVC(kernel='rbf',gamma=0.01)\n",
        "svc.fit(X_train,y_train)\n",
        "y_predict=svc.predict(X_test)\n",
        "metrics.accuracy_score(y_test,y_predict)"
      ],
      "execution_count": 35,
      "outputs": [
        {
          "output_type": "execute_result",
          "data": {
            "text/plain": [
              "0.9625"
            ]
          },
          "metadata": {},
          "execution_count": 35
        }
      ],
      "metadata": {
        "colab": {
          "base_uri": "https://localhost:8080/"
        },
        "id": "uAaEDPEYD-EY",
        "outputId": "b8664301-59ca-45d9-a26f-c3d3fd9523a1"
      }
    },
    {
      "cell_type": "markdown",
      "source": [
        "# With K-fold cross validation(where K=10)"
      ],
      "metadata": {
        "id": "BEYQqL8SD-EZ"
      }
    },
    {
      "cell_type": "code",
      "source": [
        "svc=SVC(kernel='linear',gamma=0.01)\n",
        "scores = cross_val_score(svc, X, y, cv=10, scoring='accuracy')\n",
        "print(scores)\n",
        "print(scores.mean())"
      ],
      "execution_count": 36,
      "outputs": [
        {
          "output_type": "stream",
          "name": "stdout",
          "text": [
            "[1.     0.8875 0.95   0.875  0.875  0.95   1.     1.     0.975  0.85  ]\n",
            "0.9362499999999999\n"
          ]
        }
      ],
      "metadata": {
        "colab": {
          "base_uri": "https://localhost:8080/"
        },
        "id": "t8ZcCtsQD-EZ",
        "outputId": "67fb4143-dc70-472c-80a7-68aea6b3b6fc"
      }
    },
    {
      "cell_type": "markdown",
      "source": [
        "# performing SVM by taking hyperparameter degree=3 and kernel as poly"
      ],
      "metadata": {
        "id": "xf1FeKR3D-EZ"
      }
    },
    {
      "cell_type": "code",
      "source": [
        "from sklearn.svm import SVC\n",
        "svc= SVC(kernel='poly',degree=3)\n",
        "svc.fit(X_train,y_train)\n",
        "y_predict=svc.predict(X_test)\n",
        "accuracy_score= metrics.accuracy_score(y_test,y_predict)\n",
        "print(accuracy_score)"
      ],
      "execution_count": 37,
      "outputs": [
        {
          "output_type": "stream",
          "name": "stdout",
          "text": [
            "0.9625\n"
          ]
        }
      ],
      "metadata": {
        "colab": {
          "base_uri": "https://localhost:8080/"
        },
        "id": "zxivz-TAD-Ea",
        "outputId": "8f530eae-b6e6-45f3-a0d7-04c20efc6464"
      }
    },
    {
      "cell_type": "markdown",
      "source": [
        "# With K-fold cross validation(where K=10)"
      ],
      "metadata": {
        "id": "MTR9iNoVD-Ea"
      }
    },
    {
      "cell_type": "code",
      "source": [
        "svc=SVC(kernel='poly',degree=3)\n",
        "scores = cross_val_score(svc, X, y, cv=10, scoring='accuracy')\n",
        "print(scores)\n",
        "print(scores.mean())"
      ],
      "execution_count": 38,
      "outputs": [
        {
          "output_type": "stream",
          "name": "stdout",
          "text": [
            "[1.     0.8625 0.9875 0.9125 0.8875 0.9625 0.9875 1.     1.     0.8   ]\n",
            "0.9400000000000002\n"
          ]
        }
      ],
      "metadata": {
        "colab": {
          "base_uri": "https://localhost:8080/"
        },
        "id": "LEHDf87iD-Ea",
        "outputId": "a7687402-1041-438e-bf39-d3e5303966d5"
      }
    },
    {
      "cell_type": "markdown",
      "source": [
        "#perform Grid search technique to find the best parameter"
      ],
      "metadata": {
        "id": "W3v8ZkCaD-Eb"
      }
    },
    {
      "cell_type": "code",
      "source": [
        "from sklearn.svm import SVC\n",
        "svm_model= SVC()"
      ],
      "execution_count": 39,
      "outputs": [],
      "metadata": {
        "id": "5mDt97qUD-Eb"
      }
    },
    {
      "cell_type": "code",
      "source": [
        "tuned_parameters = {\n",
        " 'C': (np.arange(0.1,1,0.1)) , 'kernel': ['linear'],\n",
        " 'C': (np.arange(0.1,1,0.1)) , 'gamma': [0.01,0.02,0.03,0.04,0.05], 'kernel': ['rbf'],\n",
        " 'degree': [2,3,4] ,'gamma':[0.01,0.02,0.03,0.04,0.05], 'C':(np.arange(0.1,1,0.1)) , 'kernel':['poly']\n",
        "                   }"
      ],
      "execution_count": 40,
      "outputs": [],
      "metadata": {
        "id": "nlWH2lSGD-Ec"
      }
    },
    {
      "cell_type": "code",
      "source": [
        "from sklearn.model_selection import GridSearchCV\n",
        "\n",
        "model_svm = GridSearchCV(svm_model, tuned_parameters,cv=10,scoring='accuracy')"
      ],
      "execution_count": 41,
      "outputs": [],
      "metadata": {
        "id": "PCDqUnWLD-Ec"
      }
    },
    {
      "cell_type": "code",
      "source": [
        "model_svm.fit(X_train, y_train)\n",
        "print(model_svm.best_score_)"
      ],
      "execution_count": 42,
      "outputs": [
        {
          "output_type": "stream",
          "name": "stdout",
          "text": [
            "0.9765625\n"
          ]
        }
      ],
      "metadata": {
        "colab": {
          "base_uri": "https://localhost:8080/"
        },
        "id": "ZOtYgjl0D-Ec",
        "outputId": "d09ed934-2989-424d-f2df-3fa4347ad56a"
      }
    },
    {
      "cell_type": "code",
      "source": [
        "# print(model_svm.grid_scores_)"
      ],
      "execution_count": 43,
      "outputs": [],
      "metadata": {
        "id": "iim_2aelD-Ed"
      }
    },
    {
      "cell_type": "code",
      "source": [
        "print(model_svm.best_params_)"
      ],
      "execution_count": 44,
      "outputs": [
        {
          "output_type": "stream",
          "name": "stdout",
          "text": [
            "{'C': 0.30000000000000004, 'degree': 3, 'gamma': 0.01, 'kernel': 'poly'}\n"
          ]
        }
      ],
      "metadata": {
        "colab": {
          "base_uri": "https://localhost:8080/"
        },
        "id": "_jnYfuSsD-Ed",
        "outputId": "7fe129c4-b633-4c49-8bb2-9cd75154a935"
      }
    },
    {
      "cell_type": "code",
      "source": [
        "y_pred= model_svm.predict(X_test)\n",
        "print(metrics.accuracy_score(y_pred,y_test))"
      ],
      "execution_count": 45,
      "outputs": [
        {
          "output_type": "stream",
          "name": "stdout",
          "text": [
            "0.9625\n"
          ]
        }
      ],
      "metadata": {
        "colab": {
          "base_uri": "https://localhost:8080/"
        },
        "id": "4JUaMGbDD-Ee",
        "outputId": "db132ca8-38c2-4dbf-d51d-5160c8d88745"
      }
    }
  ]
}